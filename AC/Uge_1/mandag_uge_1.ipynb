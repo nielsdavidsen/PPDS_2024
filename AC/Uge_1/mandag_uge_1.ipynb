{
 "cells": [
  {
   "cell_type": "markdown",
   "metadata": {},
   "source": [
    "## Python Programming for Data Science\n",
    "\n"
   ]
  },
  {
   "cell_type": "markdown",
   "metadata": {},
   "source": [
    "Compilation: From python --> assembly (for example). translation. You compile the entire thing once, and the computer translates it.\n",
    "\n",
    "Interpretation: From source (python), you go line by line. Scripting. Not very used.\n",
    "\n",
    "$\\textbf{Compilation then interpretation is how modern coding runs.}$"
   ]
  },
  {
   "cell_type": "markdown",
   "metadata": {},
   "source": [
    "### Variables and types"
   ]
  },
  {
   "cell_type": "markdown",
   "metadata": {},
   "source": [
    "#### Numeric and boolean"
   ]
  },
  {
   "cell_type": "markdown",
   "metadata": {},
   "source": [
    "$\\textbf{Numeric types:}$ int, float (decimal), complex\n",
    "\n",
    "\n",
    "Computations available for numerical variables:\n",
    "\n",
    "1. Addition\n",
    "2. Subtraction / negation\n",
    "3. Multiplication\n",
    "4. Division\n",
    "5. Exponentiation\n",
    "6. Modulo (%)\n",
    "7. Integer Division (//)\n",
    "\n",
    "Comparisons available for numeric types:\n",
    "\n",
    "1. \"==\" \n",
    "2. \"!=\" (not equal)\n",
    "3. \"<\" \n",
    "4. \">\" \n",
    "\n",
    "$\\textbf{Boolean types:}$ True, False\n",
    "\n",
    "Operations available for booleans:\n",
    "\n",
    "1. \"and\"\n",
    "2. \"or\"\n",
    "3. \"not\""
   ]
  },
  {
   "cell_type": "markdown",
   "metadata": {},
   "source": [
    "#### Strings"
   ]
  },
  {
   "cell_type": "markdown",
   "metadata": {},
   "source": [
    "1. \"\n",
    "2. '\n",
    "\n",
    "Der er to slags quotes, sådan så man kan bruge quotes inde i sin string også.\n",
    "\n",
    "3. \"\"\", ''' (denne er til kode der er over flere linjer, f. eks. docstrings inde i funktioner)\n",
    "\n",
    "Operations available for strings: \n",
    "\n",
    "1. Concatenation, +\n",
    "2. Repetition, *\n",
    "3. in, testing if element is in string, returns: boolean\n",
    "4. [], extracting character from string (indexing a string?)\n",
    "5. Comparisons\n",
    "* '<' before\n",
    "* '>' after\n",
    "\n",
    "Space is a character in strings, so when indexing a space will count as an indexable character.\n",
    "\n"
   ]
  },
  {
   "cell_type": "markdown",
   "metadata": {},
   "source": [
    "### Conditionals/branching"
   ]
  },
  {
   "cell_type": "markdown",
   "metadata": {},
   "source": [
    "* If/elif/else - the condition\n",
    "\n",
    "We can use boolean operations for conditions in strings\n",
    "\n",
    "* and/or/not"
   ]
  },
  {
   "cell_type": "markdown",
   "metadata": {},
   "source": []
  }
 ],
 "metadata": {
  "kernelspec": {
   "display_name": "base",
   "language": "python",
   "name": "python3"
  },
  "language_info": {
   "codemirror_mode": {
    "name": "ipython",
    "version": 3
   },
   "file_extension": ".py",
   "mimetype": "text/x-python",
   "name": "python",
   "nbconvert_exporter": "python",
   "pygments_lexer": "ipython3",
   "version": "3.9.13"
  }
 },
 "nbformat": 4,
 "nbformat_minor": 2
}
