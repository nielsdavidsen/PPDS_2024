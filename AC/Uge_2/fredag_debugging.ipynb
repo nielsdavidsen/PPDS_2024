{
 "cells": [
  {
   "cell_type": "code",
   "execution_count": 1,
   "metadata": {},
   "outputs": [],
   "source": [
    "number_list = [1,2,3,4]\n",
    "i = 0\n",
    "while i < len(number_list):\n",
    "    if i < 2:      # Inserted\n",
    "        del number_list[i]\n",
    "    i += 1\n",
    "\n",
    "#error = deleting the first element of the list will cause the second element to become the first element, and the loop will skip the second element."
   ]
  },
  {
   "cell_type": "code",
   "execution_count": 4,
   "metadata": {},
   "outputs": [
    {
     "name": "stdout",
     "output_type": "stream",
     "text": [
      "hello\n"
     ]
    }
   ],
   "source": [
    "necessary_var = \"hello\"\n",
    "\n",
    "if (len(necessary_var) > 4):\n",
    "    neccessary_var = necessary_var[:4] \n",
    "print(necessary_var)\n",
    "\n",
    "#error = spelling mistake\n"
   ]
  }
 ],
 "metadata": {
  "kernelspec": {
   "display_name": "Python 3",
   "language": "python",
   "name": "python3"
  },
  "language_info": {
   "codemirror_mode": {
    "name": "ipython",
    "version": 3
   },
   "file_extension": ".py",
   "mimetype": "text/x-python",
   "name": "python",
   "nbconvert_exporter": "python",
   "pygments_lexer": "ipython3",
   "version": "3.9.6"
  }
 },
 "nbformat": 4,
 "nbformat_minor": 2
}
