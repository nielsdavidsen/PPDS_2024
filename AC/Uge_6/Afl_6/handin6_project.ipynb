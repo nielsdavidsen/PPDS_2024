{
 "cells": [
  {
   "cell_type": "code",
   "execution_count": 1,
   "metadata": {},
   "outputs": [],
   "source": [
    "import pandas as pd"
   ]
  },
  {
   "cell_type": "code",
   "execution_count": 6,
   "metadata": {},
   "outputs": [],
   "source": [
    "def extract_header(filename, comment_prefix, header_row_index, header_row_delimiter):\n",
    "    \n",
    "    header_lines = []\n",
    "\n",
    "    with open(filename) as f:\n",
    "        lines = f.readlines()\n",
    "        for line in lines:\n",
    "            if line.startswith(comment_prefix):\n",
    "                header_lines.append(line)\n",
    "            else:\n",
    "                break\n",
    "    \n",
    "    \n",
    "    header_str = header_lines[header_row_index].replace(comment_prefix, '').split(header_row_delimiter)\n",
    "    header_str = [x.strip() for x in header_str]\n",
    "\n",
    "    return header_str\n"
   ]
  },
  {
   "cell_type": "code",
   "execution_count": 7,
   "metadata": {},
   "outputs": [],
   "source": [
    "header = extract_header('Land_and_Ocean_summary.txt', comment_prefix='%', header_row_index=-1, header_row_delimiter=',')"
   ]
  },
  {
   "cell_type": "code",
   "execution_count": 8,
   "metadata": {},
   "outputs": [
    {
     "name": "stdout",
     "output_type": "stream",
     "text": [
      "['Year', 'Annual Anomaly', 'Annual Unc.', 'Five-year Anomaly', 'Five-year Unc.', 'Annual Anomaly', 'Annual Unc.', 'Five-year Anomaly', 'Five-year Unc.']\n"
     ]
    }
   ],
   "source": [
    "def read_anomaly_data_into_dataframe(filename, header, max_cols, comment_prefix):\n",
    "    data = pd.read_table(filename, comment=comment_prefix, header=None, names=header, usecols=range(max_cols))\n",
    "    bla blss s sbajbsjkbjkf\n",
    "    \n"
   ]
  },
  {
   "cell_type": "code",
   "execution_count": null,
   "metadata": {},
   "outputs": [],
   "source": []
  }
 ],
 "metadata": {
  "kernelspec": {
   "display_name": "Python 3",
   "language": "python",
   "name": "python3"
  },
  "language_info": {
   "codemirror_mode": {
    "name": "ipython",
    "version": 3
   },
   "file_extension": ".py",
   "mimetype": "text/x-python",
   "name": "python",
   "nbconvert_exporter": "python",
   "pygments_lexer": "ipython3",
   "version": "3.9.6"
  }
 },
 "nbformat": 4,
 "nbformat_minor": 2
}
