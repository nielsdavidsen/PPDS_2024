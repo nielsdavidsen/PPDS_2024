{
 "cells": [
  {
   "cell_type": "code",
   "execution_count": 2,
   "metadata": {},
   "outputs": [],
   "source": [
    "import pandas as pd\n",
    "import numpy as np\n",
    "import matplotlib.pyplot as plt"
   ]
  },
  {
   "cell_type": "code",
   "execution_count": 3,
   "metadata": {},
   "outputs": [],
   "source": [
    "df = pd.read_table('british-english', keep_default_na=False, header=None)\n",
    "df.columns = ['words']\n"
   ]
  },
  {
   "cell_type": "code",
   "execution_count": 4,
   "metadata": {},
   "outputs": [],
   "source": [
    "#acceccing first entry:\n",
    "df['words'][0]\n",
    "#or\n",
    "df.iloc[0, 0]\n",
    "#or\n",
    "df.loc[0, 'words']\n",
    "\n",
    "#accessing all words starting by a:\n",
    "mask = df['words'].str.startswith('A')\n",
    "#or\n",
    "mask = df['words'].str[0] == 'A'\n",
    "\n",
    "df[mask]\n",
    "\n",
    "#accessing all words starting with upper- or lowercase a:\n",
    "\n",
    "#converting everything to lowercase:\n",
    "mask = df['words'].str.lower().str[0] == 'a'\n",
    "#converting everything into uppercase:\n",
    "mask = df['words'].str.upper().str[0] == 'A'\n",
    "#or checking for two diff. things:\n",
    "mask1 = df['words'].str[0] == 'A'\n",
    "mask2 = df['words'].str[0] == 'a'\n",
    "\n",
    "#mask1 or mask2\n",
    "mask = mask1 | mask2 \n",
    "#mask1 and mask2\n",
    "mask = mask1 & mask2"
   ]
  },
  {
   "cell_type": "code",
   "execution_count": 5,
   "metadata": {},
   "outputs": [
    {
     "name": "stdout",
     "output_type": "stream",
     "text": [
      "   col1  col2\n",
      "a     0     1\n",
      "b     2     3\n",
      "c     4     5\n",
      "   col1  col2  col3\n",
      "a     0     1   NaN\n",
      "b     2     3   2.0\n",
      "c     4     5   4.0\n"
     ]
    }
   ],
   "source": [
    "#adding columns\n",
    "\n",
    "np_array = np.arange(6).reshape((3,2))\n",
    "df = pd.DataFrame(np_array, index=['a', 'b', 'c'], columns=['col1', 'col2'])\n",
    "print(df)\n",
    "\n",
    "# Copying col1, but skipping first row. Pandas will get around the missing value by inserting a Nan value\n",
    "df.loc[:,'col3'] = df.loc['b':,'col1']\n",
    "print(df)       "
   ]
  },
  {
   "cell_type": "code",
   "execution_count": 6,
   "metadata": {},
   "outputs": [
    {
     "name": "stdout",
     "output_type": "stream",
     "text": [
      "   col1  col2\n",
      "a   0.0   1.0\n",
      "b   2.0   3.0\n",
      "c   4.0   5.0\n",
      "d   0.0   1.0\n"
     ]
    }
   ],
   "source": [
    "#adding rows by assigning to a relevant index\n",
    "\n",
    "np_array = np.arange(6).reshape((3,2))\n",
    "df = pd.DataFrame(np_array,\n",
    "                  index=['a', 'b', 'c'],\n",
    "                  columns=['col1', 'col2'])\n",
    "# Adding row labeled 'd' - copy of `a`\n",
    "df.loc['d',:] = df.loc['a',:]\n",
    "print(df)"
   ]
  },
  {
   "cell_type": "code",
   "execution_count": 7,
   "metadata": {},
   "outputs": [
    {
     "data": {
      "text/html": [
       "<div>\n",
       "<style scoped>\n",
       "    .dataframe tbody tr th:only-of-type {\n",
       "        vertical-align: middle;\n",
       "    }\n",
       "\n",
       "    .dataframe tbody tr th {\n",
       "        vertical-align: top;\n",
       "    }\n",
       "\n",
       "    .dataframe thead th {\n",
       "        text-align: right;\n",
       "    }\n",
       "</style>\n",
       "<table border=\"1\" class=\"dataframe\">\n",
       "  <thead>\n",
       "    <tr style=\"text-align: right;\">\n",
       "      <th></th>\n",
       "      <th>0</th>\n",
       "      <th>1</th>\n",
       "      <th>2</th>\n",
       "    </tr>\n",
       "  </thead>\n",
       "  <tbody>\n",
       "    <tr>\n",
       "      <th>0</th>\n",
       "      <td>0.0</td>\n",
       "      <td>2.0</td>\n",
       "      <td>NaN</td>\n",
       "    </tr>\n",
       "    <tr>\n",
       "      <th>1</th>\n",
       "      <td>6.0</td>\n",
       "      <td>8.0</td>\n",
       "      <td>NaN</td>\n",
       "    </tr>\n",
       "    <tr>\n",
       "      <th>2</th>\n",
       "      <td>NaN</td>\n",
       "      <td>NaN</td>\n",
       "      <td>NaN</td>\n",
       "    </tr>\n",
       "  </tbody>\n",
       "</table>\n",
       "</div>"
      ],
      "text/plain": [
       "     0    1   2\n",
       "0  0.0  2.0 NaN\n",
       "1  6.0  8.0 NaN\n",
       "2  NaN  NaN NaN"
      ]
     },
     "execution_count": 7,
     "metadata": {},
     "output_type": "execute_result"
    }
   ],
   "source": [
    "#Aligning dataframes\n",
    "\n",
    "np_array1 = np.arange(9).reshape((3,3))\n",
    "df1 = pd.DataFrame(np_array1)\n",
    "df2 = pd.DataFrame(np_array1[:2,:2])\n",
    "\n",
    "# In pandas operations can be done between two datasets of unequal size\n",
    "\n",
    "df1 + df2\n",
    "\n",
    "#It will just return NaN for the missing values\n",
    "\n"
   ]
  },
  {
   "cell_type": "code",
   "execution_count": 8,
   "metadata": {},
   "outputs": [
    {
     "data": {
      "text/html": [
       "<div>\n",
       "<style scoped>\n",
       "    .dataframe tbody tr th:only-of-type {\n",
       "        vertical-align: middle;\n",
       "    }\n",
       "\n",
       "    .dataframe tbody tr th {\n",
       "        vertical-align: top;\n",
       "    }\n",
       "\n",
       "    .dataframe thead th {\n",
       "        text-align: right;\n",
       "    }\n",
       "</style>\n",
       "<table border=\"1\" class=\"dataframe\">\n",
       "  <thead>\n",
       "    <tr style=\"text-align: right;\">\n",
       "      <th></th>\n",
       "      <th>0</th>\n",
       "      <th>1</th>\n",
       "      <th>2</th>\n",
       "    </tr>\n",
       "  </thead>\n",
       "  <tbody>\n",
       "    <tr>\n",
       "      <th>0</th>\n",
       "      <td>False</td>\n",
       "      <td>False</td>\n",
       "      <td>True</td>\n",
       "    </tr>\n",
       "    <tr>\n",
       "      <th>1</th>\n",
       "      <td>False</td>\n",
       "      <td>False</td>\n",
       "      <td>True</td>\n",
       "    </tr>\n",
       "    <tr>\n",
       "      <th>2</th>\n",
       "      <td>True</td>\n",
       "      <td>True</td>\n",
       "      <td>True</td>\n",
       "    </tr>\n",
       "  </tbody>\n",
       "</table>\n",
       "</div>"
      ],
      "text/plain": [
       "       0      1     2\n",
       "0  False  False  True\n",
       "1  False  False  True\n",
       "2   True   True  True"
      ]
     },
     "execution_count": 8,
     "metadata": {},
     "output_type": "execute_result"
    }
   ],
   "source": [
    "#Once inside of a pandas dataframe, we can do a lot of operations on the data\n",
    "\n",
    "#we have .mean(), .std(), .var(), .min(), .max(), .sumsum(), .sumprod(), etc.\n",
    "#we specify the axis along which we want to perform the operation, 0 is the row axis\n",
    "#and 1 is the column axis\n",
    "\n",
    "\n",
    "#there is a default skipna built in to the operations, which you can access and equal to False\n",
    "\n",
    "(df1+df2).sum(axis=0, min_count=1) #min_conut=1 means minimum one number in the column must be a number\n",
    "\n",
    "(df1+df2).isna() #returns a boolean dataframe with True for NaN values\n",
    "\n",
    "#we can also use the .fillna() method to fill in NaN values with a specific value\n",
    "    #we can also .dropna() to remove NaN values\n",
    "    #you can interpolate the values with .interpolate(), take the interpolation between the two neighbours\n",
    "\n"
   ]
  },
  {
   "cell_type": "code",
   "execution_count": 9,
   "metadata": {},
   "outputs": [
    {
     "data": {
      "text/html": [
       "<div>\n",
       "<style scoped>\n",
       "    .dataframe tbody tr th:only-of-type {\n",
       "        vertical-align: middle;\n",
       "    }\n",
       "\n",
       "    .dataframe tbody tr th {\n",
       "        vertical-align: top;\n",
       "    }\n",
       "\n",
       "    .dataframe thead th {\n",
       "        text-align: right;\n",
       "    }\n",
       "</style>\n",
       "<table border=\"1\" class=\"dataframe\">\n",
       "  <thead>\n",
       "    <tr style=\"text-align: right;\">\n",
       "      <th></th>\n",
       "      <th>col1</th>\n",
       "      <th>col2</th>\n",
       "    </tr>\n",
       "  </thead>\n",
       "  <tbody>\n",
       "    <tr>\n",
       "      <th>a</th>\n",
       "      <td>0.0</td>\n",
       "      <td>1.0</td>\n",
       "    </tr>\n",
       "    <tr>\n",
       "      <th>d</th>\n",
       "      <td>0.0</td>\n",
       "      <td>1.0</td>\n",
       "    </tr>\n",
       "    <tr>\n",
       "      <th>b</th>\n",
       "      <td>2.0</td>\n",
       "      <td>3.0</td>\n",
       "    </tr>\n",
       "    <tr>\n",
       "      <th>c</th>\n",
       "      <td>4.0</td>\n",
       "      <td>5.0</td>\n",
       "    </tr>\n",
       "  </tbody>\n",
       "</table>\n",
       "</div>"
      ],
      "text/plain": [
       "   col1  col2\n",
       "a   0.0   1.0\n",
       "d   0.0   1.0\n",
       "b   2.0   3.0\n",
       "c   4.0   5.0"
      ]
     },
     "execution_count": 9,
     "metadata": {},
     "output_type": "execute_result"
    }
   ],
   "source": [
    "#sorting dataframes\n",
    "\n",
    "df.sort_index(axis=0, ascending=False) #sorts the rows in descending order\n",
    "\n",
    "df.sort_values(by='col1') #sorts the rows by the values in col1\n",
    "df.sort_values(by=['col1', 'col2']) #sorts the rows by the values in col1 and then col2"
   ]
  },
  {
   "cell_type": "code",
   "execution_count": 10,
   "metadata": {},
   "outputs": [
    {
     "name": "stdout",
     "output_type": "stream",
     "text": [
      "  key   value_x   value_y\n",
      "0   b -0.864750  0.526397\n",
      "1   d -0.405102 -0.660585\n",
      "  key   value_x   value_y\n",
      "0   a  0.811575       NaN\n",
      "1   b -0.864750  0.526397\n",
      "2   c -1.357731       NaN\n",
      "3   d -0.405102 -0.660585\n",
      "4   e       NaN  0.831087\n",
      "5   f       NaN -2.019015\n"
     ]
    }
   ],
   "source": [
    "#merging dataframes\n",
    "\n",
    "df1 = pd.DataFrame({'key': ['a', 'b', 'c', 'd'],\n",
    "                    'value': np.random.randn(4)})\n",
    "df2 = pd.DataFrame({'key': ['b', 'd', 'e', 'f'],\n",
    "                    'value': np.random.randn(4)})\n",
    "merged = pd.merge(df1, df2, on='key') #merges the two dataframes on the key column\n",
    "\n",
    "print(merged) #see it gives only the overlap\n",
    "\n",
    "union = pd.merge(df1, df2, on='key', how='outer') #gives the union of the two dataframes\n",
    "\n",
    "print(union) #see it gives all the values, with nan for the missing values"
   ]
  },
  {
   "cell_type": "code",
   "execution_count": 11,
   "metadata": {},
   "outputs": [
    {
     "name": "stdout",
     "output_type": "stream",
     "text": [
      "2                AMD\n",
      "3              AMD's\n",
      "7           Aachen's\n",
      "11           Aaron's\n",
      "13           Abbas's\n",
      "             ...    \n",
      "101057     workflows\n",
      "101672        zapper\n",
      "101673      zapper's\n",
      "101674       zappers\n",
      "101808    Ångström's\n",
      "Name: words_english, Length: 5357, dtype: object\n"
     ]
    }
   ],
   "source": [
    "df_british = pd.read_table('british-english', keep_default_na=False, header=None)\n",
    "df_british.columns = ['words_english']\n",
    "\n",
    "df_american = pd.read_table('american-english', keep_default_na=False, header=None)\n",
    "df_american.columns = ['words_american']\n",
    "\n",
    "df_merged = pd.merge(df_british, df_american, left_on='words_english', right_on='words_american', how='left', indicator=True)\n",
    "\n",
    "merge_mask = df_merged['_merge'] == 'left_only'\n",
    "\n",
    "print(df_merged['words_english'][merge_mask])\n"
   ]
  },
  {
   "cell_type": "code",
   "execution_count": 12,
   "metadata": {},
   "outputs": [
    {
     "name": "stdout",
     "output_type": "stream",
     "text": [
      "<pandas.core.groupby.generic.DataFrameGroupBy object at 0x1224d8610>\n",
      "female\n",
      "    name  gender  height\n",
      "1  Alice  female     180\n",
      "2   Anna  female     165\n",
      "male\n",
      "  name gender  height\n",
      "0  Bob   male     170\n"
     ]
    },
    {
     "name": "stderr",
     "output_type": "stream",
     "text": [
      "/var/folders/nt/n4r2szjs4jz_6t7_vhh2hm0m0000gn/T/ipykernel_60242/1706393638.py:6: FutureWarning: The default of observed=False is deprecated and will be changed to True in a future version of pandas. Pass observed=False to retain current behavior or observed=True to adopt the future default and silence this warning.\n",
      "  gender_grps = df.groupby('gender')\n",
      "/var/folders/nt/n4r2szjs4jz_6t7_vhh2hm0m0000gn/T/ipykernel_60242/1706393638.py:19: FutureWarning: The provided callable <function mean at 0x11154b550> is currently using SeriesGroupBy.mean. In a future version of pandas, the provided callable will be used directly. To keep current behavior pass the string \"mean\" instead.\n",
      "  gender_grps.agg({'height':np.mean}) # Returns a DataFrame\n"
     ]
    },
    {
     "data": {
      "text/html": [
       "<div>\n",
       "<style scoped>\n",
       "    .dataframe tbody tr th:only-of-type {\n",
       "        vertical-align: middle;\n",
       "    }\n",
       "\n",
       "    .dataframe tbody tr th {\n",
       "        vertical-align: top;\n",
       "    }\n",
       "\n",
       "    .dataframe thead th {\n",
       "        text-align: right;\n",
       "    }\n",
       "</style>\n",
       "<table border=\"1\" class=\"dataframe\">\n",
       "  <thead>\n",
       "    <tr style=\"text-align: right;\">\n",
       "      <th></th>\n",
       "      <th>height</th>\n",
       "    </tr>\n",
       "    <tr>\n",
       "      <th>gender</th>\n",
       "      <th></th>\n",
       "    </tr>\n",
       "  </thead>\n",
       "  <tbody>\n",
       "    <tr>\n",
       "      <th>female</th>\n",
       "      <td>172.5</td>\n",
       "    </tr>\n",
       "    <tr>\n",
       "      <th>male</th>\n",
       "      <td>170.0</td>\n",
       "    </tr>\n",
       "  </tbody>\n",
       "</table>\n",
       "</div>"
      ],
      "text/plain": [
       "        height\n",
       "gender        \n",
       "female   172.5\n",
       "male     170.0"
      ]
     },
     "execution_count": 12,
     "metadata": {},
     "output_type": "execute_result"
    }
   ],
   "source": [
    "#grouping dataframes\n",
    "\n",
    "df = pd.DataFrame({'name' : pd.Categorical(['Bob', 'Alice', 'Anna']),\n",
    "                   'gender' : pd.Categorical(['male', 'female', 'female']),\n",
    "                   'height': [170, 180, 165]})\n",
    "gender_grps = df.groupby('gender')\n",
    "print(gender_grps) #mysterious\n",
    "\n",
    "#you can also group dynamically\n",
    "df.groupby(df['name'].str.len()) #groups by the length of the name\n",
    "\n",
    "#we can also iterate over elements in a group\n",
    "for name, grp in gender_grps:\n",
    "    print(name)\n",
    "    print(grp)\n",
    "\n",
    "#we can also calculate summary statistics for each group\n",
    "gender_grps['height'].mean() #gives the mean height\n",
    "gender_grps.agg({'height':np.mean}) # Returns a DataFrame"
   ]
  },
  {
   "cell_type": "code",
   "execution_count": 13,
   "metadata": {},
   "outputs": [],
   "source": [
    "df_b = pd.read_table('british-english', keep_default_na=False, header=None)\n",
    "\n",
    "df_b.columns = ['words']\n",
    "\n",
    "alphabetical_groups = df_b.groupby(df_b['words'].str[0]) #gives the number of words starting with each letter\n",
    "\n"
   ]
  },
  {
   "cell_type": "code",
   "execution_count": 21,
   "metadata": {},
   "outputs": [
    {
     "name": "stdout",
     "output_type": "stream",
     "text": [
      "           words\n",
      "28618          c\n",
      "28619        cab\n",
      "28620      cab's\n",
      "28621      cabal\n",
      "28622    cabal's\n",
      "...          ...\n",
      "36752     czar's\n",
      "36753    czarina\n",
      "36754  czarina's\n",
      "36755   czarinas\n",
      "36756      czars\n",
      "\n",
      "[8139 rows x 1 columns]\n"
     ]
    }
   ],
   "source": [
    "lucky_letter = 'c'\n",
    "\n",
    "for name, grp in alphabetical_groups:\n",
    "    if name == lucky_letter:\n",
    "        lucky_group = grp\n",
    "    else: \n",
    "        continue\n",
    "\n",
    "print(lucky_group) #non-indexable unfortunately :( "
   ]
  },
  {
   "cell_type": "code",
   "execution_count": null,
   "metadata": {},
   "outputs": [],
   "source": []
  }
 ],
 "metadata": {
  "kernelspec": {
   "display_name": "Python 3",
   "language": "python",
   "name": "python3"
  },
  "language_info": {
   "codemirror_mode": {
    "name": "ipython",
    "version": 3
   },
   "file_extension": ".py",
   "mimetype": "text/x-python",
   "name": "python",
   "nbconvert_exporter": "python",
   "pygments_lexer": "ipython3",
   "version": "3.9.6"
  }
 },
 "nbformat": 4,
 "nbformat_minor": 2
}
