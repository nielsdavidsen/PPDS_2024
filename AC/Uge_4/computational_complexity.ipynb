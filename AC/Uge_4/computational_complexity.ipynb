{
 "cells": [
  {
   "cell_type": "code",
   "execution_count": null,
   "metadata": {},
   "outputs": [],
   "source": [
    "#Run-time optimization\n",
    "#the less loops the better\n",
    "#lesser repetitions, dont put anything inside a loop which doesnt vary\n",
    "\n",
    "#Quantifying the speed of an algorithm, should be expressed as a function of input size, not time\n",
    "\n",
    "#Big O, 0(n), notation is a way to describe the upper bound of the speed of an algorithm, its the computational complexity\n",
    "\n",
    "#Binary search is O(log(n)), linear search is O(n), loop inside of loop is O(n^2)"
   ]
  },
  {
   "cell_type": "code",
   "execution_count": 3,
   "metadata": {},
   "outputs": [
    {
     "data": {
      "text/html": [
       "<img src=\"exception_hierarchy.png\" width=\"700\" height=\"300\"/>"
      ],
      "text/plain": [
       "<IPython.core.display.Image object>"
      ]
     },
     "execution_count": 3,
     "metadata": {},
     "output_type": "execute_result"
    }
   ],
   "source": [
    "from IPython.display import Image \n",
    "  \n",
    "# get the image \n",
    "Image(url=\"exception_hierarchy.png\", width=700, height=300) \n"
   ]
  },
  {
   "cell_type": "code",
   "execution_count": 5,
   "metadata": {},
   "outputs": [
    {
     "name": "stdout",
     "output_type": "stream",
     "text": [
      "Variable not defined\n"
     ]
    }
   ],
   "source": [
    "\n",
    "try :\n",
    "    print(I_love_python)\n",
    "except NameError:\n",
    "    print(\"Variable not defined\")\n"
   ]
  },
  {
   "cell_type": "code",
   "execution_count": 6,
   "metadata": {},
   "outputs": [
    {
     "name": "stdout",
     "output_type": "stream",
     "text": [
      "Index out of range\n"
     ]
    }
   ],
   "source": [
    "l = [1,2,3,4]\n",
    "\n",
    "try:\n",
    "    print(l[4])\n",
    "except IndexError:\n",
    "    print(\"Index out of range\")"
   ]
  },
  {
   "cell_type": "code",
   "execution_count": 7,
   "metadata": {},
   "outputs": [
    {
     "name": "stdout",
     "output_type": "stream",
     "text": [
      "Division by zero not possible\n"
     ]
    }
   ],
   "source": [
    "try:\n",
    "    print(1/0)\n",
    "except ZeroDivisionError:\n",
    "    print(\"Division by zero not possible\")"
   ]
  },
  {
   "cell_type": "code",
   "execution_count": 9,
   "metadata": {},
   "outputs": [],
   "source": [
    "#raise KeyError"
   ]
  },
  {
   "cell_type": "markdown",
   "metadata": {},
   "source": [
    "### When including certain conditions in you code, it may make sense to 'sanity check' it"
   ]
  },
  {
   "cell_type": "code",
   "execution_count": null,
   "metadata": {},
   "outputs": [],
   "source": [
    "#for example:\n",
    "\n",
    "if not condition:\n",
    "    raise exception\n",
    "\n",
    "#this is comprised in\n",
    "\n",
    "assert condition #if condition is not True, it raises an AssertionError"
   ]
  },
  {
   "cell_type": "code",
   "execution_count": 19,
   "metadata": {},
   "outputs": [],
   "source": [
    "def my_func(x):\n",
    "    if x % 2 == 0:\n",
    "        print('It is even!')\n",
    "\n",
    "    if x % 2 != 0:\n",
    "        raise ValueError('It is odd!')\n",
    "\n",
    "\n",
    "def better_func(x):\n",
    "    assert x % 2 == 0, 'It is odd!'\n",
    "    print('It is even!')\n"
   ]
  },
  {
   "cell_type": "code",
   "execution_count": 21,
   "metadata": {},
   "outputs": [
    {
     "name": "stdout",
     "output_type": "stream",
     "text": [
      "It is even!\n"
     ]
    }
   ],
   "source": [
    "better_func(2)"
   ]
  },
  {
   "cell_type": "markdown",
   "metadata": {},
   "source": [
    "### You can make your own exception class, which can be raised in your project"
   ]
  },
  {
   "cell_type": "code",
   "execution_count": 25,
   "metadata": {},
   "outputs": [],
   "source": [
    "class MyException(Exception):\n",
    "    pass"
   ]
  },
  {
   "cell_type": "code",
   "execution_count": 26,
   "metadata": {},
   "outputs": [
    {
     "ename": "MyException",
     "evalue": "",
     "output_type": "error",
     "traceback": [
      "\u001b[0;31m---------------------------------------------------------------------------\u001b[0m",
      "\u001b[0;31mMyException\u001b[0m                               Traceback (most recent call last)",
      "Cell \u001b[0;32mIn[26], line 1\u001b[0m\n\u001b[0;32m----> 1\u001b[0m \u001b[38;5;28;01mraise\u001b[39;00m MyException\n",
      "\u001b[0;31mMyException\u001b[0m: "
     ]
    }
   ],
   "source": [
    "raise MyException"
   ]
  },
  {
   "cell_type": "markdown",
   "metadata": {},
   "source": [
    "### After a 'try, except' run you have the possibility of adding a finally:\n",
    "\n",
    "The finally goes through with an action at the end, no matter what"
   ]
  },
  {
   "cell_type": "code",
   "execution_count": null,
   "metadata": {},
   "outputs": [],
   "source": [
    "thing = initialize_thing()   # (e.g. open a file)\n",
    "try:\n",
    "    # do something with thing\n",
    "finally:\n",
    "    finalize_thing()         # (e.g. close a file)\n",
    "\n",
    "#this is equivalent to\n",
    "\n",
    "with initialize_thing() as thing:\n",
    "    # do something with thing\n",
    "\n",
    "#Using this method automatically closes a file, for example. It works for classes with an __enter__ and __exit__ method. For example file class."
   ]
  }
 ],
 "metadata": {
  "kernelspec": {
   "display_name": "Python 3",
   "language": "python",
   "name": "python3"
  },
  "language_info": {
   "codemirror_mode": {
    "name": "ipython",
    "version": 3
   },
   "file_extension": ".py",
   "mimetype": "text/x-python",
   "name": "python",
   "nbconvert_exporter": "python",
   "pygments_lexer": "ipython3",
   "version": "3.9.6"
  }
 },
 "nbformat": 4,
 "nbformat_minor": 2
}
