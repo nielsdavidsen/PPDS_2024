{
 "cells": [
  {
   "cell_type": "code",
   "execution_count": 36,
   "metadata": {},
   "outputs": [],
   "source": [
    "import pandas as pd\n",
    "import numpy as np\n",
    "\n",
    "\n",
    "def find_palindromes(word_dataframe, minimum_length=4):\n",
    "    '''\n",
    "    A function that takes a pandas DataFrame with a column 'word' and returns a new DataFrame \n",
    "    with only the words that are palindromes and have a minimum length of characters specified when \n",
    "    calling the function. The minimum length is 4 by default. The function is case insensitive, but leaves\n",
    "    out words with appostrophes.\n",
    "\n",
    "    Parameters:\n",
    "    word_dataframe (pandas DataFrame): A DataFrame with a column 'word' containing words (strings).\n",
    "\n",
    "    minimum_length (int): The minimum length of the words to be included in the output DataFrame.\n",
    "\n",
    "    \n",
    "    Returns:\n",
    "    pandas DataFrame: A DataFrame with only the words that are palindromes and have a minimum length of characters specified\n",
    "    '''\n",
    "\n",
    "    # Make all words lowercase\n",
    "\n",
    "    return_df = word_dataframe.copy()\n",
    "\n",
    "    word_dataframe['word'] = word_dataframe['word'].str.lower()\n",
    "\n",
    "    # Find all palindromes\n",
    "    mask_palindrome = word_dataframe['word'] == word_dataframe['word'].str[::-1]\n",
    "\n",
    "    # Find all words with a minimum length\n",
    "    mask_minlength = word_dataframe['word'].str.len() >= minimum_length\n",
    "\n",
    "    # No appostrophes\n",
    "    mask_noappostrophes = ~word_dataframe['word'].str.contains(\"'\")\n",
    "    \n",
    "\n",
    "    mask_combined = mask_palindrome & mask_minlength & mask_noappostrophes\n",
    "\n",
    "    return return_df[mask_combined]\n"
   ]
  },
  {
   "cell_type": "code",
   "execution_count": 37,
   "metadata": {},
   "outputs": [
    {
     "name": "stdout",
     "output_type": "stream",
     "text": [
      "    word\n",
      "0   anna\n",
      "1  Civic\n",
      "5  Radar\n",
      "6  Madam\n"
     ]
    }
   ],
   "source": [
    "new_df = pd.DataFrame({\"word\": [\"anna\", \"Civic\", \"lialac\", \"Radiator\", \"snake\", \"Radar\", \"Madam\"]})\n",
    "\n",
    "print(find_palindromes(new_df))\n",
    "\n"
   ]
  },
  {
   "cell_type": "code",
   "execution_count": null,
   "metadata": {},
   "outputs": [],
   "source": []
  }
 ],
 "metadata": {
  "kernelspec": {
   "display_name": "Python 3",
   "language": "python",
   "name": "python3"
  },
  "language_info": {
   "codemirror_mode": {
    "name": "ipython",
    "version": 3
   },
   "file_extension": ".py",
   "mimetype": "text/x-python",
   "name": "python",
   "nbconvert_exporter": "python",
   "pygments_lexer": "ipython3",
   "version": "3.9.6"
  }
 },
 "nbformat": 4,
 "nbformat_minor": 2
}
