{
 "cells": [
  {
   "cell_type": "code",
   "execution_count": 1,
   "metadata": {},
   "outputs": [],
   "source": [
    "import pandas as pd\n",
    "import numpy as np"
   ]
  },
  {
   "cell_type": "code",
   "execution_count": 2,
   "metadata": {},
   "outputs": [],
   "source": [
    "def extract_header(filename, comment_prefix, header_row_index, header_row_delimiter):\n",
    "    '''\n",
    "    Extracts the header from a file. \n",
    "\n",
    "    Parameters\n",
    "    ----------\n",
    "    filename : str\n",
    "        The name of the file to extract the header from.\n",
    "\n",
    "    comment_prefix : str\n",
    "        The character that indicates a comment in the file.\n",
    "\n",
    "    header_row_index : int\n",
    "        The index of the row that contains the header (often last index=-1).\n",
    "\n",
    "    header_row_delimiter : str\n",
    "        The character that separates the header elements.\n",
    "\n",
    "        \n",
    "    Returns\n",
    "    -------\n",
    "    list\n",
    "        The header elements \n",
    "\n",
    "    '''\n",
    "    with open(filename, 'r') as file:\n",
    "        lines = file.readlines()\n",
    "\n",
    "        header = []\n",
    "        for line in lines:\n",
    "            if line[0] == comment_prefix:\n",
    "                header.append(line)\n",
    "\n",
    "    \n",
    "    header_extract = header[header_row_index]\n",
    "    header_extract = header_extract.replace(comment_prefix, '')\n",
    "    split_header = header_extract.split(header_row_delimiter)\n",
    "    return_header = [x.strip() for x in split_header]\n",
    "    \n",
    "    return return_header\n"
   ]
  },
  {
   "cell_type": "code",
   "execution_count": 3,
   "metadata": {},
   "outputs": [
    {
     "name": "stdout",
     "output_type": "stream",
     "text": [
      "['Year', 'Annual Anomaly', 'Annual Unc.', 'Five-year Anomaly', 'Five-year Unc.', 'Annual Anomaly', 'Annual Unc.', 'Five-year Anomaly', 'Five-year Unc.']\n"
     ]
    }
   ],
   "source": [
    "header = extract_header('Land_and_Ocean_summary.txt', \n",
    "                         comment_prefix='%', \n",
    "                         header_row_index=-1, \n",
    "                         header_row_delimiter=',')\n",
    "\n",
    "print(header)"
   ]
  },
  {
   "cell_type": "code",
   "execution_count": 4,
   "metadata": {},
   "outputs": [],
   "source": [
    "def read_anomaly_data_into_dataframe(filename, header, max_cols, comment_prefix):\n",
    "    '''\n",
    "    A function that reads data into a Pandas DataFrame. Makes the first column of the data the index.\n",
    "\n",
    "    Parameters\n",
    "    ----------\n",
    "    filename : str\n",
    "        The name of the file to read.\n",
    "\n",
    "    header : list\n",
    "        The header elements.\n",
    "\n",
    "    max_cols : int\n",
    "        The maximum number of columns to read.\n",
    "\n",
    "    comment_prefix : str\n",
    "        The character that indicates a comment in the file.\n",
    "\n",
    "        \n",
    "    Returns\n",
    "    -------\n",
    "    DataFrame\n",
    "        The data in a Pandas DataFrame.\n",
    "    \n",
    "    '''\n",
    "    header = header[:max_cols]\n",
    "    anomaly_df = pd.read_table(filename, \n",
    "                               delimiter=r'\\s+', \n",
    "                               comment=comment_prefix, \n",
    "                               names=header, \n",
    "                               usecols=range(max_cols), index_col=False)\n",
    "    \n",
    "    anomaly_df.set_index(header[0], inplace=True)\n",
    "    \n",
    "    return anomaly_df"
   ]
  },
  {
   "cell_type": "code",
   "execution_count": 5,
   "metadata": {},
   "outputs": [
    {
     "data": {
      "text/html": [
       "<div>\n",
       "<style scoped>\n",
       "    .dataframe tbody tr th:only-of-type {\n",
       "        vertical-align: middle;\n",
       "    }\n",
       "\n",
       "    .dataframe tbody tr th {\n",
       "        vertical-align: top;\n",
       "    }\n",
       "\n",
       "    .dataframe thead th {\n",
       "        text-align: right;\n",
       "    }\n",
       "</style>\n",
       "<table border=\"1\" class=\"dataframe\">\n",
       "  <thead>\n",
       "    <tr style=\"text-align: right;\">\n",
       "      <th></th>\n",
       "      <th>Annual Anomaly</th>\n",
       "      <th>Annual Unc.</th>\n",
       "      <th>Five-year Anomaly</th>\n",
       "      <th>Five-year Unc.</th>\n",
       "    </tr>\n",
       "    <tr>\n",
       "      <th>Year</th>\n",
       "      <th></th>\n",
       "      <th></th>\n",
       "      <th></th>\n",
       "      <th></th>\n",
       "    </tr>\n",
       "  </thead>\n",
       "  <tbody>\n",
       "    <tr>\n",
       "      <th>1850</th>\n",
       "      <td>-0.532</td>\n",
       "      <td>0.154</td>\n",
       "      <td>NaN</td>\n",
       "      <td>NaN</td>\n",
       "    </tr>\n",
       "    <tr>\n",
       "      <th>1851</th>\n",
       "      <td>-0.405</td>\n",
       "      <td>0.169</td>\n",
       "      <td>NaN</td>\n",
       "      <td>NaN</td>\n",
       "    </tr>\n",
       "    <tr>\n",
       "      <th>1852</th>\n",
       "      <td>-0.395</td>\n",
       "      <td>0.165</td>\n",
       "      <td>-0.423</td>\n",
       "      <td>0.121</td>\n",
       "    </tr>\n",
       "    <tr>\n",
       "      <th>1853</th>\n",
       "      <td>-0.418</td>\n",
       "      <td>0.158</td>\n",
       "      <td>-0.384</td>\n",
       "      <td>0.109</td>\n",
       "    </tr>\n",
       "    <tr>\n",
       "      <th>1854</th>\n",
       "      <td>-0.363</td>\n",
       "      <td>0.142</td>\n",
       "      <td>-0.400</td>\n",
       "      <td>0.090</td>\n",
       "    </tr>\n",
       "    <tr>\n",
       "      <th>...</th>\n",
       "      <td>...</td>\n",
       "      <td>...</td>\n",
       "      <td>...</td>\n",
       "      <td>...</td>\n",
       "    </tr>\n",
       "    <tr>\n",
       "      <th>2014</th>\n",
       "      <td>0.675</td>\n",
       "      <td>0.045</td>\n",
       "      <td>0.728</td>\n",
       "      <td>0.040</td>\n",
       "    </tr>\n",
       "    <tr>\n",
       "      <th>2015</th>\n",
       "      <td>0.814</td>\n",
       "      <td>0.043</td>\n",
       "      <td>0.777</td>\n",
       "      <td>0.041</td>\n",
       "    </tr>\n",
       "    <tr>\n",
       "      <th>2016</th>\n",
       "      <td>0.949</td>\n",
       "      <td>0.044</td>\n",
       "      <td>0.808</td>\n",
       "      <td>0.040</td>\n",
       "    </tr>\n",
       "    <tr>\n",
       "      <th>2017</th>\n",
       "      <td>0.834</td>\n",
       "      <td>0.045</td>\n",
       "      <td>NaN</td>\n",
       "      <td>NaN</td>\n",
       "    </tr>\n",
       "    <tr>\n",
       "      <th>2018</th>\n",
       "      <td>0.770</td>\n",
       "      <td>0.043</td>\n",
       "      <td>NaN</td>\n",
       "      <td>NaN</td>\n",
       "    </tr>\n",
       "  </tbody>\n",
       "</table>\n",
       "<p>169 rows × 4 columns</p>\n",
       "</div>"
      ],
      "text/plain": [
       "      Annual Anomaly  Annual Unc.  Five-year Anomaly  Five-year Unc.\n",
       "Year                                                                \n",
       "1850          -0.532        0.154                NaN             NaN\n",
       "1851          -0.405        0.169                NaN             NaN\n",
       "1852          -0.395        0.165             -0.423           0.121\n",
       "1853          -0.418        0.158             -0.384           0.109\n",
       "1854          -0.363        0.142             -0.400           0.090\n",
       "...              ...          ...                ...             ...\n",
       "2014           0.675        0.045              0.728           0.040\n",
       "2015           0.814        0.043              0.777           0.041\n",
       "2016           0.949        0.044              0.808           0.040\n",
       "2017           0.834        0.045                NaN             NaN\n",
       "2018           0.770        0.043                NaN             NaN\n",
       "\n",
       "[169 rows x 4 columns]"
      ]
     },
     "execution_count": 5,
     "metadata": {},
     "output_type": "execute_result"
    }
   ],
   "source": [
    "anomaly_df = read_anomaly_data_into_dataframe('Land_and_Ocean_summary.txt', header, max_cols=5, comment_prefix='%')\n",
    "anomaly_df\n"
   ]
  },
  {
   "cell_type": "code",
   "execution_count": 6,
   "metadata": {},
   "outputs": [],
   "source": [
    "def anomaly_avg_per_decade(anomaly_df):\n",
    "    '''\n",
    "    A function that calculates the average temperature anomaly per decade. \n",
    "    The functions groups the data into decades and calculates the average anomaly for each decade.\n",
    "\n",
    "    Parameters\n",
    "    ----------\n",
    "    anomaly_df : DataFrame\n",
    "        The data in a Pandas DataFrame.\n",
    "\n",
    "    \n",
    "    Returns\n",
    "    -------\n",
    "    Series\n",
    "        The average anomaly per decade.\n",
    "\n",
    "    '''\n",
    "    anomaly_df['Decade'] = (anomaly_df.index // 10) * 10\n",
    "    dec_grp = anomaly_df.groupby('Decade')\n",
    "    anomaly_dev_avg = dec_grp['Annual Anomaly'].mean()\n",
    "    return anomaly_dev_avg    \n",
    "\n",
    "    \n"
   ]
  },
  {
   "cell_type": "code",
   "execution_count": 7,
   "metadata": {},
   "outputs": [
    {
     "name": "stdout",
     "output_type": "stream",
     "text": [
      "Decade\n",
      "1850   -0.441500\n",
      "1860   -0.406900\n",
      "1870   -0.297600\n",
      "1880   -0.403400\n",
      "1890   -0.391000\n",
      "1900   -0.395700\n",
      "1910   -0.402900\n",
      "1920   -0.250800\n",
      "1930   -0.128200\n",
      "1940    0.013200\n",
      "1950   -0.015800\n",
      "1960   -0.015100\n",
      "1970   -0.007300\n",
      "1980    0.169800\n",
      "1990    0.338600\n",
      "2000    0.551000\n",
      "2010    0.723222\n",
      "Name: Annual Anomaly, dtype: float64\n"
     ]
    }
   ],
   "source": [
    "anomalies_per_decade = anomaly_avg_per_decade(anomaly_df)\n",
    "print(anomalies_per_decade)"
   ]
  },
  {
   "cell_type": "code",
   "execution_count": 8,
   "metadata": {},
   "outputs": [
    {
     "data": {
      "text/plain": [
       "<Axes: title={'center': 'Average temperature anomaly per decade'}, xlabel='Decade', ylabel='Temperature anomaly'>"
      ]
     },
     "execution_count": 8,
     "metadata": {},
     "output_type": "execute_result"
    },
    {
     "data": {
      "image/png": "[encoded data removed]",
      "text/plain": [
       "<Figure size 640x480 with 1 Axes>"
      ]
     },
     "metadata": {},
     "output_type": "display_data"
    }
   ],
   "source": [
    "anomalies_per_decade.plot(ls='--', marker='o', color='k', grid=True, title='Average temperature anomaly per decade', ylabel='Temperature anomaly')\n"
   ]
  },
  {
   "cell_type": "code",
   "execution_count": null,
   "metadata": {},
   "outputs": [],
   "source": []
  },
  {
   "cell_type": "code",
   "execution_count": null,
   "metadata": {},
   "outputs": [],
   "source": []
  }
 ],
 "metadata": {
  "kernelspec": {
   "display_name": "Python 3",
   "language": "python",
   "name": "python3"
  },
  "language_info": {
   "codemirror_mode": {
    "name": "ipython",
    "version": 3
   },
   "file_extension": ".py",
   "mimetype": "text/x-python",
   "name": "python",
   "nbconvert_exporter": "python",
   "pygments_lexer": "ipython3",
   "version": "3.12.3"
  }
 },
 "nbformat": 4,
 "nbformat_minor": 2
}
