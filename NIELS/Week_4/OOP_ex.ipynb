{
 "cells": [
  {
   "cell_type": "code",
   "execution_count": 7,
   "metadata": {},
   "outputs": [
    {
     "name": "stdout",
     "output_type": "stream",
     "text": [
      "Name: Niels Davidsen\n",
      "Age: 24\n"
     ]
    }
   ],
   "source": [
    "class my_info:\n",
    "    \n",
    "    def __init__(self, firstname, lastname, age):\n",
    "        self.firstname = firstname\n",
    "        self.lastname = lastname\n",
    "        self.age = age\n",
    "\n",
    "\n",
    "    def print_info(self):\n",
    "        print(\"Name: \" + self.firstname + \" \" + self.lastname + \"\\nAge: \" + str(self.age))\n",
    "\n",
    "\n",
    "info = my_info('Niels', 'Davidsen', '24')\n",
    "info.print_info()"
   ]
  },
  {
   "cell_type": "code",
   "execution_count": 12,
   "metadata": {},
   "outputs": [],
   "source": [
    "# Excersise 3 on inheritance\n",
    "\n",
    "class person:\n",
    "    def __init__(self, name, cpr, adress):\n",
    "        self.name = name\n",
    "        self.cpr = cpr\n",
    "        self.adress = adress\n",
    "\n",
    "class student(person):\n",
    "    def __init__(self, name, cpr, adress, courses, grades, enrollment_date):\n",
    "        person.__init__(self, name, cpr, adress)\n",
    "        self.courses = courses\n",
    "        self.grades = grades\n",
    "        self.enrollment_date = enrollment_date\n",
    "\n",
    "niels = student('Niels August Davidsen', '123456-7890', 'Frederiksberg Bredegade 13B', ['Applied Statistics', 'Numerical Methods'], [10, 'B'], '01-09-2021')\n",
    "sigrid = student('Sigrid Bennedsen', ' 123456-7891', 'Nørrebrogade 14', ['Mekanik og Relativitetsteori', 'Numerical Methods'], [12, 7], '01-09-2021')\n",
    "\n"
   ]
  },
  {
   "cell_type": "code",
   "execution_count": 19,
   "metadata": {},
   "outputs": [
    {
     "name": "stdout",
     "output_type": "stream",
     "text": [
      "['Niels August Davidsen', 'Sigrid Bennedsen']\n"
     ]
    }
   ],
   "source": [
    "# Excersise 4 on composition\n",
    "\n",
    "class student_group:\n",
    "    def __init__(self, students):\n",
    "        self.students = students\n",
    "\n",
    "    def add_student(self, student):\n",
    "        self.students.append(student)\n",
    "\n",
    "    def get_names(self):\n",
    "        names=[]\n",
    "        for student in self.students:\n",
    "            names.append(student.name)\n",
    "        return names\n",
    "\n",
    "\n",
    "students = [niels, sigrid]\n",
    "group = student_group(students)\n",
    "group_names = group.get_names()\n",
    "print(group_names)\n",
    "        "
   ]
  },
  {
   "cell_type": "code",
   "execution_count": null,
   "metadata": {},
   "outputs": [],
   "source": []
  }
 ],
 "metadata": {
  "kernelspec": {
   "display_name": "Python 3",
   "language": "python",
   "name": "python3"
  },
  "language_info": {
   "codemirror_mode": {
    "name": "ipython",
    "version": 3
   },
   "file_extension": ".py",
   "mimetype": "text/x-python",
   "name": "python",
   "nbconvert_exporter": "python",
   "pygments_lexer": "ipython3",
   "version": "3.12.3"
  }
 },
 "nbformat": 4,
 "nbformat_minor": 2
}
