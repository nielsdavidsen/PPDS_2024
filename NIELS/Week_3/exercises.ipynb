{
 "cells": [
  {
   "cell_type": "code",
   "execution_count": 1,
   "metadata": {},
   "outputs": [
    {
     "name": "stdout",
     "output_type": "stream",
     "text": [
      "6\n",
      "9\n",
      "4\n",
      "8\n",
      "7\n",
      "1\n",
      "2\n",
      "\n",
      "\n",
      "6\n",
      "9\n",
      "4\n",
      "8\n",
      "7\n",
      "1\n",
      "2\n",
      "\n",
      "\n",
      "9\n",
      "8\n",
      "2\n"
     ]
    }
   ],
   "source": [
    "nlist = [6, 9, 4, 8, 7, 1, 2]\n",
    "\n",
    "# Using while loop to print the elements of a list\n",
    "i = 0\n",
    "while i < len(nlist):\n",
    "    print(nlist[i])\n",
    "    i += 1\n",
    "print('\\n')\n",
    "\n",
    "\n",
    "# Using for loop to print the elements of a list\n",
    "for j in nlist:\n",
    "    print(j)\n",
    "print('\\n')\n",
    "\n",
    "# Loop that prints out elements that are larger than their left neighbor\n",
    "for i, n in enumerate(nlist):\n",
    "    if i > 0 and n > nlist[i - 1]:\n",
    "        print(n)"
   ]
  },
  {
   "cell_type": "code",
   "execution_count": 3,
   "metadata": {},
   "outputs": [
    {
     "name": "stdout",
     "output_type": "stream",
     "text": [
      "5\n"
     ]
    }
   ],
   "source": []
  },
  {
   "cell_type": "code",
   "execution_count": null,
   "metadata": {},
   "outputs": [],
   "source": []
  }
 ],
 "metadata": {
  "kernelspec": {
   "display_name": "Python 3",
   "language": "python",
   "name": "python3"
  },
  "language_info": {
   "codemirror_mode": {
    "name": "ipython",
    "version": 3
   },
   "file_extension": ".py",
   "mimetype": "text/x-python",
   "name": "python",
   "nbconvert_exporter": "python",
   "pygments_lexer": "ipython3",
   "version": "3.9.6"
  }
 },
 "nbformat": 4,
 "nbformat_minor": 2
}
