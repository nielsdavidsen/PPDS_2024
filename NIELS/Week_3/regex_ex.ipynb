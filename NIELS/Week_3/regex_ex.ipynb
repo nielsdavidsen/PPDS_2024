{
 "cells": [
  {
   "cell_type": "markdown",
   "metadata": {},
   "source": [
    "### Construct (this time in Python) a regular expression that matches the data entries"
   ]
  },
  {
   "cell_type": "code",
   "execution_count": 7,
   "metadata": {},
   "outputs": [
    {
     "name": "stdout",
     "output_type": "stream",
     "text": [
      "Sep 9, 9:05, T=22deg\n",
      "SEP 9, 10:15, T=25deg\n",
      "Sep 9, 11:15, T=-10deg\n",
      "Sept 12, 09:00AM, T=32deg\n",
      "Oct12 13:00, T=32degr\n",
      "['22', '25', '-10', '32', '32']\n"
     ]
    }
   ],
   "source": [
    "import re\n",
    "\n",
    "data = '''# Measurements started\n",
    "Sep 9, 9:05, T=22deg\n",
    "SEP 9, 10:15, T=25deg\n",
    "# Taking a coffee break\n",
    "Sep 9, 11:15, T=-10deg\n",
    "# Weekend\n",
    "Sept 12, 09:00AM, T=32deg\n",
    "Oct12 13:00, T=32degr'''\n",
    "\n",
    "data_lines = data.split('\\n')\n",
    "\n",
    "\n",
    "regex = re.compile(r'T=(-?\\d+)deg')\n",
    "temp = []\n",
    "\n",
    "for data_line in data_lines:\n",
    "    matches = regex.findall(data_line)\n",
    "    temp.extend(matches)\n",
    "    if regex.search(data_line):\n",
    "\n",
    "        print(data_line)\n",
    "\n",
    "print(temp)"
   ]
  },
  {
   "cell_type": "code",
   "execution_count": null,
   "metadata": {},
   "outputs": [],
   "source": []
  }
 ],
 "metadata": {
  "kernelspec": {
   "display_name": "Python 3",
   "language": "python",
   "name": "python3"
  },
  "language_info": {
   "codemirror_mode": {
    "name": "ipython",
    "version": 3
   },
   "file_extension": ".py",
   "mimetype": "text/x-python",
   "name": "python",
   "nbconvert_exporter": "python",
   "pygments_lexer": "ipython3",
   "version": "3.12.3"
  }
 },
 "nbformat": 4,
 "nbformat_minor": 2
}
