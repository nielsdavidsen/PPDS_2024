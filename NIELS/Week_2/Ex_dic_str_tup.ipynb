{
 "cells": [
  {
   "cell_type": "markdown",
   "metadata": {},
   "source": [
    "\n",
    "Tuples — exercise\n",
    "\n",
    "    1. Create a tuple called triplet of size 3 containing the numbers 1, 2, and 3.\n",
    "    2. Create three variables x, y and z and use the tuple triplet to initialize them.\n",
    "    3. Now create a tuple called quartet of size 4 (with the numbers 1,2,3,4), and try it again. What happens?\n",
    "    4.Tuples support slicing. Can you use this to fix the problem?\n",
    "\n",
    "\n"
   ]
  },
  {
   "cell_type": "code",
   "execution_count": 3,
   "metadata": {},
   "outputs": [
    {
     "name": "stdout",
     "output_type": "stream",
     "text": [
      "1 2 3\n",
      "1 2 3\n",
      "1 2 3\n"
     ]
    }
   ],
   "source": [
    "### 1.\n",
    "triplet = (1,2,3)\n",
    "\n",
    "### 2.\n",
    "x, y, z = triplet\n",
    "print(x,y,z)\n",
    "\n",
    "### 3. \n",
    "quartet = (1,2,3,4)\n",
    "# cannot unpack quartet into x, y, z because there are too many values to unpack\n",
    "\n",
    "### 4.\n",
    "\n",
    "# Using slicing\n",
    "x, y, z = quartet[:3]\n",
    "print(x,y,z)\n",
    "\n",
    "# Alternate method with dummy variable\n",
    "x, y, z, _ = quartet\n",
    "print(x,y,z)"
   ]
  },
  {
   "cell_type": "markdown",
   "metadata": {},
   "source": [
    "\n",
    "Dictionaries — exercise\n",
    "\n",
    "1. Create a dictionary with the keys \"firstname\", \"lastname\", and \"age\", and appropriate values.\n",
    "2. Add a key named \"address\" to this dictionary.\n",
    "3. Print out the list of keys in your dictionary.\n",
    "4. Create a \"name\" key which as value contains a string with both your first and last names. Then remove the first name and last name keys. Can you do this without actually typing in your name again?\n",
    "\n"
   ]
  },
  {
   "cell_type": "code",
   "execution_count": 23,
   "metadata": {},
   "outputs": [
    {
     "name": "stdout",
     "output_type": "stream",
     "text": [
      "{'age': 23, 'adress': 'Frederiksberg Bredegade 13B', 'name': 'Niels Davidsen'}\n",
      "{'age': 23, 'adress': 'Frederiksberg Bredegade 13B', 'name': 'Niels Davidsen'}\n"
     ]
    }
   ],
   "source": [
    "### 1. \n",
    "dic = {'firstname': 'Niels', 'lastname': 'Davidsen', 'age': 23}\n",
    "\n",
    "### 2.\n",
    "dic['adress'] = 'Frederiksberg Bredegade 13B'\n",
    "\n",
    "### 3. \n",
    "dic.keys()\n",
    "dic_init = dic.copy()\n",
    "\n",
    "### 4.\n",
    "\n",
    "# Basic method (using del to remove keys)\n",
    "name = dic['firstname'] + ' ' + dic['lastname']\n",
    "del dic['firstname']\n",
    "del dic['lastname']\n",
    "dic['name'] = name\n",
    "print(dic)\n",
    "\n",
    "# Advanced method using pop (returns value of key and removes key)\n",
    "dic = dic_init.copy()\n",
    "dic['name'] = dic.pop('firstname') + ' ' + dic.pop('lastname')\n",
    "print(dic)\n"
   ]
  },
  {
   "cell_type": "markdown",
   "metadata": {},
   "source": [
    "Types - Strings - formatting - Exercise\n",
    "\n",
    "1. Create a string with your firstname, lastname and age, just like last week, but now using string formatting, using first the %-style and then the .format style. The output should look like this:\n",
    "\n",
    "    Name: myfirstname mylastname\n",
    "    Age: age\n",
    "\n",
    "2. The range function creates a list of consecutive numbers. E.g.:\n",
    "\n",
    "    print( list ( range( 4 ) ) )\n",
    "\n",
    "    output\n",
    "    [0, 1, 2, 3]\n",
    "\n",
    "    Try to explain what the following code does:\n",
    "    \n",
    "    print((\"%s\\n\"*5)%tuple(range(5)))\n"
   ]
  },
  {
   "cell_type": "code",
   "execution_count": 39,
   "metadata": {},
   "outputs": [
    {
     "name": "stdout",
     "output_type": "stream",
     "text": [
      "Name: Niels Davidsen \n",
      "Age: 23\n",
      "\n",
      "Name: Niels Davidsen \n",
      "Age: 23\n",
      "\n",
      "[0, 1, 2, 3]\n",
      "0\n",
      "1\n",
      "2\n",
      "3\n",
      "4\n",
      "\n"
     ]
    }
   ],
   "source": [
    "### 1.  \n",
    "\n",
    "# Using python string formatting\n",
    "string = 'Name: {0} \\nAge: {1}'.format(dic['name'], dic['age']) \n",
    "print(string)\n",
    "\n",
    "print()\n",
    "\n",
    "# Using f-string\n",
    "string = f'Name: {dic[\"name\"]} \\nAge: {dic[\"age\"]}'\n",
    "print(string)\n",
    "\n",
    "\n",
    "print()\n",
    "\n",
    "### 2. \n",
    "print(list(range(4)))\n",
    "\n",
    "# The following line will print the numbers 0-4 on separate lines. The *5 repeat the string 5 times (%s\\n is a newline string)\n",
    "print((\"%s\\n\"*5)%tuple(range(5)))"
   ]
  },
  {
   "cell_type": "code",
   "execution_count": null,
   "metadata": {},
   "outputs": [],
   "source": []
  }
 ],
 "metadata": {
  "kernelspec": {
   "display_name": "Python 3",
   "language": "python",
   "name": "python3"
  },
  "language_info": {
   "codemirror_mode": {
    "name": "ipython",
    "version": 3
   },
   "file_extension": ".py",
   "mimetype": "text/x-python",
   "name": "python",
   "nbconvert_exporter": "python",
   "pygments_lexer": "ipython3",
   "version": "3.12.3"
  }
 },
 "nbformat": 4,
 "nbformat_minor": 2
}
