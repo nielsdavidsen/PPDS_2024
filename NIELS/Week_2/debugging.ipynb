{
 "cells": [
  {
   "cell_type": "code",
   "execution_count": 11,
   "metadata": {},
   "outputs": [],
   "source": [
    "number_list = [1,2,3,4]\n",
    "i = 0\n",
    "while i < len(number_list):\n",
    "    if i < 2:\n",
    "        del number_list[i]\n",
    "    i += 1"
   ]
  },
  {
   "cell_type": "code",
   "execution_count": 13,
   "metadata": {},
   "outputs": [
    {
     "name": "stdout",
     "output_type": "stream",
     "text": [
      "hello\n"
     ]
    }
   ],
   "source": [
    "necessary_var = \"hello\"\n",
    "if (len(necessary_var) > 4):\n",
    "    necessary_var = necessary_var[:4]  # truncate if length larger than 4\n",
    "print(necessary_var)\n",
    "\n"
   ]
  },
  {
   "cell_type": "code",
   "execution_count": 3,
   "metadata": {},
   "outputs": [
    {
     "name": "stdout",
     "output_type": "stream",
     "text": [
      "1\n",
      "2\n",
      "3\n"
     ]
    }
   ],
   "source": [
    "my_list = [\"Hello\", \"how\", \"are\", \"you?\"]\n",
    "my_dict = {}\n",
    "index = 0\n",
    "while index < len(my_list):\n",
    "    my_dict[my_list[index]] = index\n",
    "    index += 1\n",
    "for element in my_list[1:]:\n",
    "    print(my_dict[element])"
   ]
  },
  {
   "cell_type": "code",
   "execution_count": null,
   "metadata": {},
   "outputs": [],
   "source": []
  }
 ],
 "metadata": {
  "kernelspec": {
   "display_name": "Python 3",
   "language": "python",
   "name": "python3"
  },
  "language_info": {
   "codemirror_mode": {
    "name": "ipython",
    "version": 3
   },
   "file_extension": ".py",
   "mimetype": "text/x-python",
   "name": "python",
   "nbconvert_exporter": "python",
   "pygments_lexer": "ipython3",
   "version": "3.9.6"
  }
 },
 "nbformat": 4,
 "nbformat_minor": 2
}
