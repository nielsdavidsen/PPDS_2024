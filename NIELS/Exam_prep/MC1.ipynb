{
 "cells": [
  {
   "cell_type": "markdown",
   "metadata": {
    "vscode": {
     "languageId": "plaintext"
    }
   },
   "source": [
    "# Exam preparation for PPDS_2024 #\n",
    "\n",
    "##### $\\textit{ Niels August Davidsen - phx657}$\n",
    "____"
   ]
  },
  {
   "cell_type": "markdown",
   "metadata": {},
   "source": [
    "### MC 1: Strings, loops, slicing and opening files\n",
    "\n"
   ]
  },
  {
   "cell_type": "code",
   "execution_count": 1,
   "metadata": {},
   "outputs": [
    {
     "name": "stdout",
     "output_type": "stream",
     "text": [
      "True\n",
      "False\n",
      "False\n",
      "False\n"
     ]
    }
   ],
   "source": [
    "### Which is true? (and why) ###\n",
    "\n",
    "print(\"11\" < \"2\")\n",
    "# This is true because the string \"11\" is less than the string \"2\" because the first character of \"11\" is less than the first character of \"2\" (1 < 2). \n",
    "# Checks character by character.\n",
    "\n",
    "print(\"two\" < \"three\")\n",
    "# This is false because the second character of \"Two\" is greater than the second character of \"Three\" (w > h).\n",
    "# Checks character by character.\n",
    "\n",
    "print(\"apple\" < \"Pear\") \n",
    "# This is false because the first charater of \"Pear\" is an upper case letter and the first character of \"apple\" is a lower case letter.\n",
    "# Upper case letters are less than lower case letters.\n",
    "\n",
    "print(len([\"blablablablablabla\"]) > len(\"blabla\"))\n",
    "# This is false because the length of the list is only 1, as the only element is the string \"blablablablablabla\". On the other hand, the lenth of the string \"blabla\" is 6.\n",
    "# Remember to check for lists."
   ]
  },
  {
   "cell_type": "code",
   "execution_count": 18,
   "metadata": {},
   "outputs": [
    {
     "name": "stdout",
     "output_type": "stream",
     "text": [
      "'love'\n",
      "' '\n"
     ]
    }
   ],
   "source": [
    "### Slicing strings ### \n",
    "\n",
    "my_str = \"I love Python\"\n",
    "\n",
    "# Extract the word love\n",
    "print(repr(my_str[2:6]))\n",
    "\n",
    "# The index 2 refers to the character \"l\" which is included in the slice.\n",
    "# The index 6 refers to the white space beween \"love\" and \"Python\" which is not included in the slice.\n",
    "print(repr(my_str[6]))\n",
    "\n",
    "# Take home message: The first index is inclusive, the second index is exclusive and the colon means all the elements in between.\n",
    "\n",
    "# Wrong options:\n",
    "#   print(repr(my_str[3:6])) # This would extract \"lov\" instead of \"love\" (missing \"e\")\n",
    "#   print(repr(my_str[2:7])) # This would extract \"love \" instead of \"love\" (white space)\n",
    "#   print(repr(my_str[2:7])) # This would extract \" love \" instead of \"love\" (double white space)\n"
   ]
  },
  {
   "cell_type": "code",
   "execution_count": 3,
   "metadata": {},
   "outputs": [
    {
     "name": "stdout",
     "output_type": "stream",
     "text": [
      "Python\n",
      "Programming\n",
      "for\n",
      "Data\n",
      "Science\n",
      "<class 'list'>\n"
     ]
    }
   ],
   "source": [
    "### Printing on word per line ###\n",
    "\n",
    "my_str = \"Python Programming for Data Science\"\n",
    "\n",
    "# Using split() method\n",
    "for word in my_str.split():\n",
    "    print(word)\n",
    "\n",
    "print(type(my_str.split())) # <class 'list'>\n",
    "\n",
    "# The split method splits a string into a list of words. By default, it splits by white space.\n",
    "# Looping over the list like this will print one word per line.\n",
    "\n",
    "\n",
    "# Wrong options:\n",
    "#   for item in my_str:\n",
    "#   \tprint(item)       # This would print one character per line\n",
    "\n",
    "#   for item in my_str.strip(): \n",
    "#\t    print(item)       # This would print one character per line (strip removes new line characters)\n",
    "\n",
    "#   for item in my_string.find(\" \"):\n",
    "#\t    print(item)      # This would raise an error because find() returns an integer, not an iterable object. Also the list \"my_string\" does not exist.\n"
   ]
  },
  {
   "cell_type": "code",
   "execution_count": 4,
   "metadata": {},
   "outputs": [
    {
     "name": "stdout",
     "output_type": "stream",
     "text": [
      "8\n",
      "10\n"
     ]
    }
   ],
   "source": [
    "### What is the output of the code? ### \n",
    "\n",
    "my_list = [1,2,3,4,5,6,7,8,9,10] # len(my_list) = 10\n",
    "\n",
    "index = 0\n",
    "while index<len(my_list): # Breaks when index is equal to 10: my_list[9] = 10 is  he last element tested\n",
    "\n",
    "    value = my_list[index] # value is the element at the current index\n",
    "\n",
    "    if index > len(my_list)/2 and value%2==0:  # If index is greater than 5 and the value is even (value%2==0 is integer division)\n",
    "        print(value) \n",
    "\n",
    "    index += 1 # Increment the index by 1\n",
    "\n",
    "# Values 8 and 10 are the only numbers that meet the condition\n",
    "# Including 6 is a bait answer, as it is even and larger than 5, but REMEMBER: my_list[5] = 6 (the INDEX is not GREATER than 5)."
   ]
  },
  {
   "cell_type": "code",
   "execution_count": 5,
   "metadata": {},
   "outputs": [
    {
     "name": "stdout",
     "output_type": "stream",
     "text": [
      "0123\n"
     ]
    }
   ],
   "source": [
    "### What is the output of the code? ###\n",
    "\n",
    "my_list = [1,2,3]\n",
    "sum = \"0\"\n",
    "for value in my_list: # Iterates over the elements in my_list\n",
    "    value = str(value) # Convert the integer to a string\n",
    "    sum+=value # Concatenate the string to the sum string\n",
    "print(sum) # Prints \"0123\"     \n",
    "\n",
    "# Using the += operator with strings concatenates the strings.\n",
    "\n",
    "\n",
    "# Wrong options:\n",
    "# print(6)                      # This would be the output if the sum was an integer instead of a string.\n",
    "# print(\"123\")                  # This would be the output if sum was an epmty string to start with.\n",
    "# The code gives an eroror      # This is not correct. No error is raised as all operations are legal.\n",
    "\n",
    "\n",
    "\n"
   ]
  },
  {
   "cell_type": "code",
   "execution_count": 15,
   "metadata": {},
   "outputs": [
    {
     "name": "stdout",
     "output_type": "stream",
     "text": [
      "['hej med dig\\n', 'jeg hedder kaj'] ['hej med dig\\n', 'jeg hedder kaj']\n"
     ]
    }
   ],
   "source": [
    "### Reading LINES for an imaginary file ###\n",
    "\n",
    "# Imagine we have a file called input.txt that we wish to read. \n",
    "# Which of the following would correctly open the file, and read its context into a list of strings.\n",
    "# (there may be multiple correct solutions)\n",
    "\n",
    "# Option 1\n",
    "def opt1(text_file):\n",
    "    open_file = open(text_file) # Open the file (default mode is read ('r'))\n",
    "    lines1 = open_file.read()  \n",
    "    open_file.close()  # Closes the file\n",
    "    return lines1\n",
    "\n",
    "# Option 2\n",
    "def opt2(text_file):\n",
    "    open_file = open(text_file, \"w\") # Open the file in write mode\n",
    "    lines2 = open_file.read()\n",
    "    open_file.close() # Closes the file\n",
    "    return lines2\n",
    "\n",
    "\n",
    "# Option 3\n",
    "def opt3(text_file):\n",
    "    open_file = open(text_file, \"r\") # Open the file in read mode\n",
    "    lines3 = open_file.readlines() # Reads the LINES of the file into a list\n",
    "    open_file.close() # Closes the file\n",
    "    return lines3\n",
    "\n",
    "\n",
    "# Option 4\n",
    "def opt4(text_file):\n",
    "    open_file = open(text_file) # Open the file (default mode is read ('r'))\n",
    "    lines4 = open_file.readlines() # Reads the LINES of the file into a list\n",
    "    open_file.close() # Closes the file\n",
    "    return lines4\n",
    "\n",
    "# Option 5\n",
    "def opt5(text_file):\n",
    "    open_file = open(text_file, \"r\")\n",
    "    lines5 = open_file.readlines()\n",
    "    return lines5\n",
    "\n",
    "\n",
    "print(opt3(\"word.txt\"), opt4(\"word.txt\"))\n",
    "\n",
    "# Right options: 3, 4\n",
    "# Option 3 opens the file in read mode and reads the lines into a list using the readlines() method. It then closes the file.\n",
    "# Option 4 does the same, but without specifying the mode (default is read mode).\n",
    "\n",
    "# Wrong options:\n",
    "# Option 1 reads the entire file into a single string using the read() method.\n",
    "# Option 2 opens the file in write mode, which would not allow reading the file.\n",
    "# Option 5 does not close the file after reading it.\n",
    "\n"
   ]
  },
  {
   "cell_type": "code",
   "execution_count": null,
   "metadata": {},
   "outputs": [],
   "source": []
  }
 ],
 "metadata": {
  "kernelspec": {
   "display_name": "Python 3",
   "language": "python",
   "name": "python3"
  },
  "language_info": {
   "codemirror_mode": {
    "name": "ipython",
    "version": 3
   },
   "file_extension": ".py",
   "mimetype": "text/x-python",
   "name": "python",
   "nbconvert_exporter": "python",
   "pygments_lexer": "ipython3",
   "version": "3.9.6"
  }
 },
 "nbformat": 4,
 "nbformat_minor": 2
}
