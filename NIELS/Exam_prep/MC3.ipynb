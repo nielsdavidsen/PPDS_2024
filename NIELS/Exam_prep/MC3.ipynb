{
 "cells": [
  {
   "cell_type": "markdown",
   "metadata": {},
   "source": [
    "# Exam preparation for PPDS_2024 #\n",
    "\n",
    "##### $\\textit{ Niels August Davidsen - phx657}$\n",
    "____"
   ]
  },
  {
   "cell_type": "markdown",
   "metadata": {},
   "source": [
    "### MC 3: Varibles orders, loops, regex and functions"
   ]
  },
  {
   "cell_type": "code",
   "execution_count": 1,
   "metadata": {},
   "outputs": [
    {
     "name": "stdout",
     "output_type": "stream",
     "text": [
      "4\n"
     ]
    }
   ],
   "source": [
    "### What is the value of x after running the following code? ###\n",
    "\n",
    "x = 1 # Defines x = 1 as a global variable\n",
    "\n",
    "for x in [1,2,3,4]: # Overwrites x\n",
    "    pass   # This is a global variable, returns x = 4\n",
    "\n",
    "def f():\n",
    "    x = 2    # This is a local variable, returns None\n",
    "\n",
    "f()  # This is a function call, returns None\n",
    "print(x) # This prints out x (4)\n",
    "\n",
    "# Answer:\n",
    "# 4\n",
    "\n",
    "# Wrong options:\n",
    "\n",
    "# x = 1        # This is the initial value of x, but it is overwritten by the for loop\n",
    "# x = 2        # This is the value of x inside the function, but it is not returned"
   ]
  },
  {
   "cell_type": "code",
   "execution_count": 3,
   "metadata": {},
   "outputs": [
    {
     "name": "stdout",
     "output_type": "stream",
     "text": [
      "first line\n",
      "\n",
      "second line\n",
      "\n",
      "third line\n",
      "\n",
      "None\n"
     ]
    }
   ],
   "source": [
    "### What will be the output of the following code? ###\n",
    "\n",
    "my_input = [\"first line\\n\", \"second line\\n\", \"third line\\n\"] # Defines my_input as a global variable\n",
    "\n",
    "def read_input(input_arg): # Function that takes one argument\n",
    "    for line in my_input: # For loop that iterates over my_input defined as a global variable above (not the argument)\n",
    "        print(line) # Prints out each element of my_input\n",
    "\n",
    "        # The function returns None, but prints out the global variable element by element.\n",
    "\n",
    "print(read_input(my_input))\n",
    "\n",
    "# Answer:\n",
    "\n",
    "# \"first line \\n\"\n",
    "# \"second line \\n\"\n",
    "# \"third line \\n\"\n",
    "#  None\n",
    "\n",
    "\n",
    "# Wrong options:\n",
    "\n",
    "# \"First line\"\n",
    "# \"Second line\"\n",
    "# \"Third line\"      # This is the output of the function by the print statement, if each line was stripped of the newline character. The return value is None, and is missing from the answer aswell\n",
    "\n",
    "# \"First line \\n\"\n",
    "# \"Second line \\n\"\n",
    "# \"Third line \\n\"   # This is the output of the function by the print statement. The return value is None, and is missing from the answer.\n",
    "\n",
    "# \"First line\"\n",
    "# \"Second line\"\n",
    "# \"Third line\"\n",
    "#  None             # This would be correct if alle the lines were stripped of the newline character.\n",
    "\n"
   ]
  },
  {
   "cell_type": "code",
   "execution_count": 6,
   "metadata": {},
   "outputs": [
    {
     "name": "stdout",
     "output_type": "stream",
     "text": [
      "first line\n",
      "second line\n",
      "third line\n"
     ]
    }
   ],
   "source": [
    "### What will be the output of the following code? ###\n",
    "\n",
    "my_input = [\"first line\\n\", \"second line\\n\", \"third line\\n\"] # Defines my_input as a global variable\n",
    "def read_input(input_arg): # Function that takes one argument\n",
    "    for line in my_input: # For loop that iterates over my_input defined as a global variable above (not the argument)\n",
    "        print(line.strip()) # Prints out each element of my_input stripped of the newline character\n",
    "\n",
    "        # The function returns None, but prints out the global variable element by element.\n",
    "\n",
    "read_input(my_input[1:]) # The print statement is omitted which means that None wont be printed out\n",
    "# Even though the input is sliced, the function doesnt use the input at all, which means that it just refers back to the unsliced global variable\n",
    "\n",
    "# Answer:\n",
    "\n",
    "# \"first line\"\n",
    "# \"second line\"\n",
    "# \"third line\"\n",
    "\n",
    "\n",
    "\n",
    "# Wrong options:\n",
    "\n",
    "# \"second line\"\n",
    "# \"third line\"      # The bait option if the input was used after slicing\n",
    "\n",
    "# \"first line \\n\" \n",
    "# \"second line \\n\"\n",
    "# \"third line  \\n\"  # This would be correct, if the newline character was not stripped\n",
    "\n",
    "\n",
    "# \"second line \\n\"\n",
    "# \"third line \\n\"   # This would be correct if the newline character was not stripped an the input was used after slicing\n",
    "\n",
    "\n",
    "\n"
   ]
  },
  {
   "cell_type": "code",
   "execution_count": 7,
   "metadata": {},
   "outputs": [
    {
     "name": "stdout",
     "output_type": "stream",
     "text": [
      "0\n",
      "1\n",
      "2\n"
     ]
    }
   ],
   "source": [
    "### What will be the output of the following code? ###\n",
    "\n",
    "my_list = [\"a\", \"b\", \"c\"]\n",
    "for i in range(len(my_list)): # Iterates over the length of the list (len(my_list) = 3) which means that the range is 0, 1, 2 (remember 0-indexing)\n",
    "    print(i) # Prints out the index of the element in the list\n",
    "\n",
    "# Answer:\n",
    "\n",
    "# 0\n",
    "# 1\n",
    "# 2\n",
    "\n",
    "\n",
    "# Wrong options:\n",
    "\n",
    "# \"a\"         \n",
    "# \"b\"\n",
    "# \"c\"           # This would be correct if the loop said: for i in my_list:\n",
    " \n",
    "# 1\n",
    "# 2\n",
    "# 3             # This is a 0-indexing error, the range is 0, 1, 2 not 1, 2, 3\n"
   ]
  },
  {
   "cell_type": "code",
   "execution_count": 10,
   "metadata": {},
   "outputs": [
    {
     "name": "stdout",
     "output_type": "stream",
     "text": [
      "(0, 1)\n",
      "(1, 2)\n",
      "(2, 3)\n",
      "(3, 4)\n"
     ]
    }
   ],
   "source": [
    "### What will be the output of the following code? ###\n",
    "\n",
    "my_list = list(range(1,5)) # Creates a list from 1 to 4 (not including 5)\n",
    "for item in enumerate(my_list): # Enumerates over the list, which means that it returns the index and the element in a tuple (item is a tuple)\n",
    "    print(item) # Prints out the tuple (index, element)\n",
    "\n",
    "# Answer:\n",
    "\n",
    "# (0, 1)\n",
    "# (1, 2)\n",
    "# (2, 3)\n",
    "# (3, 4)\n",
    "\n",
    "\n",
    "# Wrong options:\n",
    "\n",
    "# 1\n",
    "# 2\n",
    "# 3\n",
    "# 4             # This would be correct if the loop said: for item in my_list:\n",
    "\n",
    "# 1\n",
    "# 2\n",
    "# 3\n",
    "# 4\n",
    "# 5             # The range function is not inclusive of the last number (5) and the loop is not iterating over the list but using the enumerate function\n",
    "\n",
    "# (1, 1)\n",
    "# (2, 2)\n",
    "# (3, 3)\n",
    "# (4, 4)        # This is a 0-indexing error, the index starts at 0 not 1\n",
    "\n",
    "# (0, 1)\n",
    "# (1, 2)\n",
    "# (2, 3)\n",
    "# (3, 4)\n",
    "# (4, 5)        # The range function is not inclusive of the last number (5)\n"
   ]
  },
  {
   "cell_type": "code",
   "execution_count": 11,
   "metadata": {},
   "outputs": [],
   "source": [
    "### Matching regular epxressions ### \n",
    "import re\n",
    "\n",
    "# Which of the following strings are matched by the regular expression ^[^0-9 ]{2} (there can be multiple correct solutions)\n",
    "\n",
    "regex = re.compile(r'^[^0-9 ]{2}') # Compiles the regular expression\n",
    "\n",
    "# The regular epxression means:\n",
    "# ^ = starting with \n",
    "# [^0-9 ] = NOT a number or a space \n",
    "# {2} = two characters\n",
    "\n",
    "\n",
    "# Answers\n",
    "op1 = \"ab\" # This string is matched by the regular expression\n",
    "\n",
    "opt5 = \"yo\" # This string is matched by the regular expression\n",
    "\n",
    "\n",
    "# Wrong options:\n",
    "\n",
    "opt2 = \"918\" # This string includes a number in the first two characters\n",
    "\n",
    "opt3 = \" hello\" # This string includes a space in the first two characters\n",
    "\n",
    "opt4 = \" 2\" # This string includes a space and a number in the first two characters\n",
    "\n",
    "opt6 = \"a2\" # This string includes a number as the second character\n",
    "\n"
   ]
  },
  {
   "cell_type": "code",
   "execution_count": 17,
   "metadata": {},
   "outputs": [
    {
     "name": "stdout",
     "output_type": "stream",
     "text": [
      "[81]\n",
      "[81, 78]\n"
     ]
    }
   ],
   "source": [
    "### What will be the output of the following code? ###\n",
    "\n",
    "numbers = []  # Creating an empty list (global variable)\n",
    "\n",
    "def extract_numbers_from_string(str_argument):\n",
    "    for item in str_argument.split():\n",
    "        # The isnumeric method checks is a string contains a number\n",
    "        if item.isnumeric(): # Chekcs if the item is a number\n",
    "            numbers.append(int(item)) # Appends the number to the global list\n",
    "    return numbers \n",
    "\n",
    "\n",
    "# Answer:\n",
    "\n",
    "print(extract_numbers_from_string(\"My name is Joe and I'm 81\"))\n",
    "# First time the function is called, the list is empty and 81 is appended to the list.\n",
    "# The print statement prints out the list [81]\n",
    "\n",
    "print(extract_numbers_from_string(\"My name is Don and I'm only 78\"))\n",
    "# Second time the function is called, the list is not empty and 78 is appended to the list.\n",
    "# The print statement prints out the list [81, 78]\n",
    "\n",
    "\n",
    "# Wrong options:\n",
    "\n",
    "# 81\n",
    "# 78         # Theese are the numbers in the list, but the print statements print out the list twice and elements are appended to the list between prints\n",
    "\n",
    "# [81]\n",
    "# [78]       # This would be correct if the numbers array was defined inside the function\n",
    "\n",
    "# ['81']\n",
    "# ['78']     # This would be correct if the numbers array was defined inside the function and the numbers weren't converted to integers\n",
    "\n",
    "\n",
    "\n"
   ]
  },
  {
   "cell_type": "code",
   "execution_count": null,
   "metadata": {},
   "outputs": [],
   "source": []
  }
 ],
 "metadata": {
  "kernelspec": {
   "display_name": "Python 3",
   "language": "python",
   "name": "python3"
  },
  "language_info": {
   "codemirror_mode": {
    "name": "ipython",
    "version": 3
   },
   "file_extension": ".py",
   "mimetype": "text/x-python",
   "name": "python",
   "nbconvert_exporter": "python",
   "pygments_lexer": "ipython3",
   "version": "3.12.3"
  }
 },
 "nbformat": 4,
 "nbformat_minor": 2
}
