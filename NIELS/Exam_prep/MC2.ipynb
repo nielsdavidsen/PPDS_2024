{
 "cells": [
  {
   "cell_type": "markdown",
   "metadata": {},
   "source": [
    "# Exam preparation for PPDS_2024 #\n",
    "\n",
    "##### $\\textit{ Niels August Davidsen - phx657}$\n",
    "____"
   ]
  },
  {
   "cell_type": "markdown",
   "metadata": {},
   "source": [
    "### MC 2: Lists, tuples, more strings, funcions and dictionaries"
   ]
  },
  {
   "cell_type": "code",
   "execution_count": 20,
   "metadata": {},
   "outputs": [
    {
     "name": "stdout",
     "output_type": "stream",
     "text": [
      "[1, 2, 3, 4, 5, 6]\n",
      "[1, 2, 3, 4, 5, 6]\n",
      "[1, 2, 3, 4, 5, 6]\n"
     ]
    }
   ],
   "source": [
    "### List operations ### \n",
    "\n",
    "my_list1 = [1,2,3,4]\n",
    "my_list2 = [1,2,3,4]\n",
    "\n",
    "# Turn into my_list=[1,2,3,4,5,6]\n",
    "\n",
    "# Method 1 - appending one item at a time\n",
    "my_list1.append(5) \n",
    "my_list1.append(6)\n",
    "print(my_list1)\n",
    "\n",
    "# Method 2 - concatenating two lists\n",
    "my_list2 += [5,6] # This is the same as my_list2 = my_list2 + [5,6]\n",
    "print(my_list2)\n",
    "\n",
    "# Method 3 - using extend method (not an option in the MC test)\n",
    "my_list3 = [1,2,3,4]\n",
    "my_list3.extend([5,6]) # This is the same as my_list3 += [5,6] and is an inplace operation\n",
    "print(my_list3)\n",
    "\n",
    "\n",
    "# Wrong options:\n",
    "#   my_list.append([5,6]) # This will append the list [5,6] as a single element\n",
    "\n",
    "#   my_list += 5 \n",
    "#   my_list += 6 # This will give an error as you can only concatenate list to list\n",
    "\n"
   ]
  },
  {
   "cell_type": "code",
   "execution_count": 21,
   "metadata": {},
   "outputs": [
    {
     "name": "stdout",
     "output_type": "stream",
     "text": [
      "(1, 2, 3, 4)\n"
     ]
    }
   ],
   "source": [
    "### What is the output of the following code? ###\n",
    "\n",
    "my_tuple = (1,2,3,4)\n",
    "#my_tuple[2] = 5      # Commented out as this would produce an error\n",
    "print(my_tuple)\n",
    "\n",
    "# This code would produce an error as tuples are immutable and you cannot change their elements once they are created.\n",
    "\n",
    "\n",
    "# Wrong options:\n",
    "#  (1,2,5,4) # This would be the output if tuples were mutable (changeable like lists)\n",
    "#  (1,5,3,4) # This is a mistake with in\n"
   ]
  },
  {
   "cell_type": "code",
   "execution_count": 22,
   "metadata": {},
   "outputs": [
    {
     "name": "stdout",
     "output_type": "stream",
     "text": [
      "1\n",
      "2\n",
      "3\n"
     ]
    }
   ],
   "source": [
    "### What is the output of the following code? ###\n",
    "\n",
    "my_list = [\"Hello\", \"how\", \"are\", \"you?\"] \n",
    "my_dict = {}\n",
    "index = 0\n",
    "while index < len(my_list):\n",
    "    my_dict[my_list[index]] = index # Makes the keys of the dictionary the elements of the list and the values their index\n",
    "    index += 1 # Increment the index by 1\n",
    "\n",
    "for element in my_list[1:]:  # Iterates over the list starting from the second element (index 1 = \"how\")\n",
    "    print(my_dict[element])  # Printing the respective value of the element in the dictionary\n",
    "\n",
    "\n",
    "# Answer: Loops over the values of the dictionary starting from the second element of the ie. the second key\n",
    "# 1 \n",
    "# 2 \n",
    "# 3\n",
    "\n",
    "\n",
    "# Wrong options:\n",
    "\n",
    "# Hello\n",
    "# how\n",
    "# are\n",
    "# you?     # This would be true if the loop iterated over ALL elements in my_list and printed the elements themselves\n",
    "\n",
    "# 2\n",
    "# 3\n",
    "# 4        # This is an indexing error, the first element in the list is \"Hello\" and its index is 0 not 1\n",
    "\n",
    "# 0\n",
    "# 1\n",
    "# 2\n",
    "# 3        # This would be true if the last loop would iterate over the whole list and not from the second element\n",
    "\n",
    "# how\n",
    "# are\n",
    "# you?     # This would be true if the loop iterated over my_list starting from the second element and then printed the elements themselves\n"
   ]
  },
  {
   "cell_type": "code",
   "execution_count": 23,
   "metadata": {},
   "outputs": [
    {
     "name": "stdout",
     "output_type": "stream",
     "text": [
      "My name is Joe and I am 81 years old\n",
      "My name is Joe and I am 81 years old\n",
      "My name is Joe and I am 81 years old\n"
     ]
    }
   ],
   "source": [
    "### String formating ### \n",
    "\n",
    "name = \"Joe\"\n",
    "age = 81\n",
    "\n",
    "# Which format would create the string \"My name is Joe and I am 81 years old\"?\n",
    "\n",
    "# Answers:\n",
    "\n",
    "# Option 1\n",
    "output1 = \"My name is \" + name + \" and I am \" + str(age) + \" years old\" # Combining strings with + operator\n",
    "print(output1)\n",
    "\n",
    "# Option 2\n",
    "output2 = \"My name is {} and I am {} years old\".format(name, age) # Using the format method\n",
    "print(output2) # Note that the {} are placeholders for the variables that are passed to the format method and that they are used in order unless specified otherwise\n",
    "\n",
    "# Option 3\n",
    "output3 = \"My name is {} and I am {:d} years old\".format(name, age) # Using the format method with type specifier for the age variable (d for integer)\n",
    "print(output3)\n",
    "\n",
    "# Take home message: The format method is a more flexible way of formatting strings than concatenation with + operator. \n",
    "# You can use type specifiers and specify the order of the variables passed to the method.\n",
    "\n",
    "# Wrong options:\n",
    "\n",
    "# output = \"My name is \" + name + \" and I'm \" + age + \" years old\" # This would produce an error as you cannot concatenate strings with integers (age is an integer)\n",
    "# output = \"My name is {:d} and I'm {} years old\".format(name, age) # This would produce an error as the type specifier for the name variable is wrong (d for integer)\n"
   ]
  },
  {
   "cell_type": "code",
   "execution_count": 24,
   "metadata": {},
   "outputs": [
    {
     "name": "stdout",
     "output_type": "stream",
     "text": [
      "None\n",
      "None\n",
      "None\n"
     ]
    }
   ],
   "source": [
    "### Basic functions ###\n",
    "\n",
    "#Consider the function call\n",
    "#     my_func(\"hello\")\n",
    "# Which of the following function definitions would be compatible with this call?\n",
    "\n",
    "# Answers: \n",
    "\n",
    "# Option 1\n",
    "def my_func(agr1):      # Takes one argument but does nothing with it\n",
    "    pass                # returns None\n",
    "\n",
    "print(my_func(\"hello\")) # This function definition is compatible with the function call as it takes one argument\n",
    "\n",
    "# Option 2\n",
    "def my_func(arg1, arg2=\"\"):     # Takes two arguments but the second one is optional and deafults to an empty string\n",
    "    pass                        # returns None\n",
    "\n",
    "print(my_func(\"hello\"))         # This function definition is compatible with the function call as it takes two arguments and the second one is optional\n",
    "\n",
    "# Option 3\n",
    "def my_func(arg1=\"\", arg2=\"\"):  # Takes two arguments but both are optional and default to empty strings\n",
    "    pass                        # returns None\n",
    "\n",
    "print(my_func(\"hello\"))         # This function definition is compatible with the function call as it takes two arguments and both are optional. Specifying only the one argument sends that value to the first argument.\n",
    "\n",
    "\n",
    "# Take home message: You can define functions with optional arguments by specifying default values for them.\n",
    "# If you don't specify a default value for an argument, it becomes a required argument. If all arguments are optional, you can call the function with no arguments.\n",
    "# If you don't specify all arguments they are passed in order to the function. Which means that you want to place non-default arguments before default arguments.\n",
    "\n",
    "# Wrong options:\n",
    "\n",
    "# def my_func(arg1, arg2): \n",
    "#    pass                     # The second argument is required and the function call only provides one argument\n",
    "\n",
    "\n",
    "# def my_func(arg1=\"\", arg2):\n",
    "#    pass                    # The second argument is required and the function call only provides one argument. The value provided is passed to the default argument, so the non-default argument is missing\n"
   ]
  },
  {
   "cell_type": "code",
   "execution_count": 25,
   "metadata": {},
   "outputs": [],
   "source": [
    "### \"Legal\" keys in a Dictionary ###\n",
    "\n",
    "# Answers:\n",
    "\n",
    "# Option 1\n",
    "key1 = \"hello\" # Strings are legal keys in a dictionary\n",
    "\n",
    "# Option 2\n",
    "key2 = 3 # Integers are legal keys in a dictionary\n",
    "\n",
    "# Option 3\n",
    "key3 = (1,2,3) # Tuples are legal keys in a dictionary\n",
    "\n",
    "\n",
    "# Wrong options:\n",
    "\n",
    "# key4 = [1,2,3] # Lists are not legal keys in a dictionary as they are mutable and cannot be hashed (Hashing is a process of converting a value into a hash value that is unique and constant for the same value)\n",
    "# key5 = {\"one\":1 ...} # Dictionaries are not legal keys in a dictionary as they are mutable and cannot be hashed\n"
   ]
  }
 ],
 "metadata": {
  "kernelspec": {
   "display_name": "Python 3",
   "language": "python",
   "name": "python3"
  },
  "language_info": {
   "codemirror_mode": {
    "name": "ipython",
    "version": 3
   },
   "file_extension": ".py",
   "mimetype": "text/x-python",
   "name": "python",
   "nbconvert_exporter": "python",
   "pygments_lexer": "ipython3",
   "version": "3.12.3"
  }
 },
 "nbformat": 4,
 "nbformat_minor": 2
}
