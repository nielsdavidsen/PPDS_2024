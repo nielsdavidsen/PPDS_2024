{
 "cells": [
  {
   "cell_type": "markdown",
   "metadata": {},
   "source": [
    "### 1. I want to calculate the average of 4 and 6. What's wrong with the following expression: \n",
    "\n",
    "Answer: Lack of parenthesis"
   ]
  },
  {
   "cell_type": "code",
   "execution_count": 11,
   "metadata": {},
   "outputs": [
    {
     "name": "stdout",
     "output_type": "stream",
     "text": [
      "7.0\n",
      "5.0\n"
     ]
    }
   ],
   "source": [
    "# Original expression\n",
    "print(4 + 6 / 2)\n",
    "\n",
    "# Corrected expression\n",
    "print((4 + 6) / 2)"
   ]
  },
  {
   "cell_type": "markdown",
   "metadata": {},
   "source": [
    "### 2. What is x after executing these lines (try without Python first): \n",
    "\n",
    "Answer: 1 "
   ]
  },
  {
   "cell_type": "code",
   "execution_count": 12,
   "metadata": {},
   "outputs": [
    {
     "name": "stdout",
     "output_type": "stream",
     "text": [
      "1\n"
     ]
    }
   ],
   "source": [
    "x = 4\n",
    "x += 1\n",
    "x -= 2\n",
    "x *= 3\n",
    "x //= 2\n",
    "x **= 2\n",
    "x %= 5\n",
    "print(x)"
   ]
  },
  {
   "cell_type": "markdown",
   "metadata": {},
   "source": [
    "### 3. This expression is equivalent to one of the expressions on the previous slide. Which one?\n",
    "\n",
    "Answer: $x > 0$ and $x < 10$\n",
    "\n",
    "Explanation: the *not* statement before the parenthesis also works on the *or* statement and makes it an *and* statement instead"
   ]
  },
  {
   "cell_type": "code",
   "execution_count": 20,
   "metadata": {},
   "outputs": [
    {
     "name": "stdout",
     "output_type": "stream",
     "text": [
      "False\n",
      "True\n",
      "True\n",
      "\n",
      "False\n"
     ]
    }
   ],
   "source": [
    "# Previous statements\n",
    "x = 15\n",
    "print((x > 0) and (x < 10))\n",
    "print((x > 0) or (x < 10))\n",
    "print((x > 0) and (x > 10))\n",
    "\n",
    "print('')\n",
    "\n",
    "# Test statement\n",
    "statement = (not (not (x > 0) or not (x < 10)))\n",
    "print(statement)\n",
    "\n",
    "# To test which statement the test statement is equivalent to set x > 10 and see that it is equivalent to the first statement"
   ]
  },
  {
   "cell_type": "code",
   "execution_count": null,
   "metadata": {},
   "outputs": [],
   "source": []
  }
 ],
 "metadata": {
  "kernelspec": {
   "display_name": "Python 3",
   "language": "python",
   "name": "python3"
  },
  "language_info": {
   "codemirror_mode": {
    "name": "ipython",
    "version": 3
   },
   "file_extension": ".py",
   "mimetype": "text/x-python",
   "name": "python",
   "nbconvert_exporter": "python",
   "pygments_lexer": "ipython3",
   "version": "3.12.3"
  }
 },
 "nbformat": 4,
 "nbformat_minor": 2
}
