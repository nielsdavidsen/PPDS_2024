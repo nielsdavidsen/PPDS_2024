{
 "cells": [
  {
   "cell_type": "markdown",
   "metadata": {},
   "source": [
    "### 1. Use the random number generator from one of the previous slides to generate a random number between 0 and 1, and use this number to simulate throwing a die."
   ]
  },
  {
   "cell_type": "code",
   "execution_count": 1,
   "metadata": {},
   "outputs": [],
   "source": [
    "import numpy as np"
   ]
  },
  {
   "cell_type": "code",
   "execution_count": 13,
   "metadata": {},
   "outputs": [
    {
     "name": "stdout",
     "output_type": "stream",
     "text": [
      "You rolled a 3!\n",
      "You rolled a 2!\n",
      "You rolled a 5!\n",
      "You rolled a 2!\n",
      "You rolled a 6!\n",
      "You rolled a 2!\n",
      "You rolled a 2!\n",
      "You rolled a 4!\n",
      "You rolled a 4!\n",
      "You rolled a 3!\n"
     ]
    }
   ],
   "source": [
    "r = np.random.randint(1, 7, 10)\n",
    "\n",
    "for throw in r:\n",
    "    if throw == 1:\n",
    "        print(\"You rolled a 1!\")\n",
    "    elif throw == 2:\n",
    "        print(\"You rolled a 2!\")\n",
    "    elif throw == 3:\n",
    "        print(\"You rolled a 3!\")\n",
    "    elif throw == 4:\n",
    "        print(\"You rolled a 4!\")\n",
    "    elif throw == 5:\n",
    "        print(\"You rolled a 5!\")\n",
    "    else:\n",
    "        print(\"You rolled a 6!\")"
   ]
  },
  {
   "cell_type": "code",
   "execution_count": null,
   "metadata": {},
   "outputs": [],
   "source": []
  }
 ],
 "metadata": {
  "kernelspec": {
   "display_name": "Python 3",
   "language": "python",
   "name": "python3"
  },
  "language_info": {
   "codemirror_mode": {
    "name": "ipython",
    "version": 3
   },
   "file_extension": ".py",
   "mimetype": "text/x-python",
   "name": "python",
   "nbconvert_exporter": "python",
   "pygments_lexer": "ipython3",
   "version": "3.12.3"
  }
 },
 "nbformat": 4,
 "nbformat_minor": 2
}
